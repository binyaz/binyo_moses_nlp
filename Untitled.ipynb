{
 "cells": [
  {
   "cell_type": "code",
   "execution_count": null,
   "metadata": {},
   "outputs": [],
   "source": []
  },
  {
   "cell_type": "code",
   "execution_count": 2,
   "metadata": {},
   "outputs": [],
   "source": [
    "import pandas as pd\n",
    "import numpy as np\n",
    "import matplotlib.pyplot as plt\n",
    "import seaborn as sns\n",
    "%matplotlib inline\n",
    "import string\n",
    "import re\n",
    "from nltk.corpus import stopwords\n",
    "from nltk import word_tokenize, FreqDist\n",
    "from sklearn.feature_extraction.text import CountVectorizer, TfidfVectorizer\n",
    "from sklearn import metrics\n",
    "from sklearn.ensemble import RandomForestClassifier\n",
    "from sklearn.naive_bayes import MultinomialNB\n",
    "from sklearn.model_selection import train_test_split\n",
    "from sklearn.preprocessing import StandardScaler\n",
    "from gensim.models import Word2Vec, \n",
    "pd.set_option('max_colwidth', None)"
   ]
  },
  {
   "cell_type": "code",
   "execution_count": 107,
   "metadata": {},
   "outputs": [],
   "source": [
    "data = pd.read_excel('Twitter_data_in_sheets.csv', encoding='utf-16')"
   ]
  },
  {
   "cell_type": "code",
   "execution_count": 6,
   "metadata": {},
   "outputs": [
    {
     "name": "stdout",
     "output_type": "stream",
     "text": [
      "<class 'pandas.core.frame.DataFrame'>\n",
      "RangeIndex: 100001 entries, 0 to 100000\n",
      "Data columns (total 14 columns):\n",
      " #   Column         Non-Null Count   Dtype  \n",
      "---  ------         --------------   -----  \n",
      " 0   TweetID        100000 non-null  object \n",
      " 1    Weekday       100000 non-null  object \n",
      " 2    Hour          100000 non-null  float64\n",
      " 3    Day           100000 non-null  float64\n",
      " 4    Lang          100000 non-null  object \n",
      " 5    IsReshare     100000 non-null  float64\n",
      " 6    Reach         100000 non-null  float64\n",
      " 7    RetweetCount  100000 non-null  float64\n",
      " 8    Likes         100000 non-null  float64\n",
      " 9    Klout         100000 non-null  float64\n",
      " 10   Sentiment     100000 non-null  float64\n",
      " 11   text          99996 non-null   object \n",
      " 12   LocationID    100000 non-null  float64\n",
      " 13   UserID        100000 non-null  object \n",
      "dtypes: float64(9), object(5)\n",
      "memory usage: 10.7+ MB\n"
     ]
    }
   ],
   "source": [
    "data.info()"
   ]
  },
  {
   "cell_type": "code",
   "execution_count": 83,
   "metadata": {},
   "outputs": [],
   "source": [
    "data = data[(data[' Lang'] == 'en')&(data[' Sentiment']==0)|(data[' Sentiment']==1)|(data[' Sentiment']==2)|(data[' Sentiment']==3)|(data[' Sentiment']==-1)|(data[' Sentiment']==-2)]"
   ]
  },
  {
   "cell_type": "code",
   "execution_count": 84,
   "metadata": {},
   "outputs": [
    {
     "name": "stdout",
     "output_type": "stream",
     "text": [
      "<class 'pandas.core.frame.DataFrame'>\n",
      "Int64Index: 86167 entries, 0 to 99999\n",
      "Data columns (total 14 columns):\n",
      " #   Column         Non-Null Count  Dtype  \n",
      "---  ------         --------------  -----  \n",
      " 0   TweetID        86167 non-null  object \n",
      " 1    Weekday       86167 non-null  object \n",
      " 2    Hour          86167 non-null  float64\n",
      " 3    Day           86167 non-null  float64\n",
      " 4    Lang          86167 non-null  object \n",
      " 5    IsReshare     86167 non-null  float64\n",
      " 6    Reach         86167 non-null  float64\n",
      " 7    RetweetCount  86167 non-null  float64\n",
      " 8    Likes         86167 non-null  float64\n",
      " 9    Klout         86167 non-null  float64\n",
      " 10   Sentiment     86167 non-null  float64\n",
      " 11   text          86166 non-null  object \n",
      " 12   LocationID    86167 non-null  float64\n",
      " 13   UserID        86167 non-null  object \n",
      "dtypes: float64(9), object(5)\n",
      "memory usage: 9.9+ MB\n"
     ]
    }
   ],
   "source": [
    "data.info()"
   ]
  },
  {
   "cell_type": "code",
   "execution_count": 92,
   "metadata": {},
   "outputs": [],
   "source": [
    "data.dropna(inplace=True)"
   ]
  },
  {
   "cell_type": "code",
   "execution_count": 108,
   "metadata": {
    "scrolled": true
   },
   "outputs": [
    {
     "data": {
      "text/plain": [
       " 0.000000    67424\n",
       " 1.000000     8771\n",
       " 2.000000     8587\n",
       " 3.000000     3945\n",
       "-1.000000     1770\n",
       "-2.000000     1729\n",
       " 1.500000     1164\n",
       " 4.000000      798\n",
       " 2.500000      693\n",
       " 0.500000      552\n",
       "-3.000000      497\n",
       " 0.400000      278\n",
       "-0.500000      277\n",
       "-1.500000      223\n",
       "-4.000000      213\n",
       " 0.160000      167\n",
       " 1.666667      162\n",
       " 2.666667      160\n",
       " 0.120000      146\n",
       " 1.333333      131\n",
       "-2.500000      100\n",
       " 1.750000       83\n",
       " 0.240000       76\n",
       " 0.666667       75\n",
       " 0.300000       73\n",
       "Name:  Sentiment, dtype: int64"
      ]
     },
     "execution_count": 108,
     "metadata": {},
     "output_type": "execute_result"
    }
   ],
   "source": [
    "data[' Sentiment'].value_counts().head(25)"
   ]
  },
  {
   "cell_type": "code",
   "execution_count": 94,
   "metadata": {},
   "outputs": [],
   "source": [
    "X = data[[' Weekday', ' Hour', ' Day', ' IsReshare', ' Reach', ' RetweetCount', ' Likes', ' Klout', ' text', ' LocationID']]\n",
    "y = data[' Sentiment']"
   ]
  },
  {
   "cell_type": "code",
   "execution_count": null,
   "metadata": {},
   "outputs": [],
   "source": []
  },
  {
   "cell_type": "code",
   "execution_count": 95,
   "metadata": {},
   "outputs": [],
   "source": [
    "stopwords_list = stopwords.words('english')\n",
    "# stopwords_list += list(string.punctuation)"
   ]
  },
  {
   "cell_type": "code",
   "execution_count": 96,
   "metadata": {},
   "outputs": [],
   "source": [
    "X_train, X_test, y_train, y_test = train_test_split(X, y, random_state=42)"
   ]
  },
  {
   "cell_type": "code",
   "execution_count": 97,
   "metadata": {},
   "outputs": [],
   "source": [
    "X_train_text = X_train[' text']\n",
    "X_test_text = X_test[' text']"
   ]
  },
  {
   "cell_type": "code",
   "execution_count": 98,
   "metadata": {},
   "outputs": [],
   "source": [
    "tfidf_vec = TfidfVectorizer(stop_words = stopwords_list)"
   ]
  },
  {
   "cell_type": "code",
   "execution_count": 99,
   "metadata": {},
   "outputs": [],
   "source": [
    "tf_idf_train = tfidf_vec.fit_transform(X_train_text)\n",
    "tf_idf_test = tfidf_vec.transform(X_test_text)"
   ]
  },
  {
   "cell_type": "code",
   "execution_count": 100,
   "metadata": {},
   "outputs": [],
   "source": [
    "rf = RandomForestClassifier(n_estimators=100)"
   ]
  },
  {
   "cell_type": "code",
   "execution_count": 101,
   "metadata": {},
   "outputs": [
    {
     "data": {
      "text/plain": [
       "RandomForestClassifier()"
      ]
     },
     "execution_count": 101,
     "metadata": {},
     "output_type": "execute_result"
    }
   ],
   "source": [
    "rf.fit(tf_idf_train, y_train)"
   ]
  },
  {
   "cell_type": "code",
   "execution_count": 102,
   "metadata": {},
   "outputs": [],
   "source": [
    "tfidf_train_pred = rf.predict(tf_idf_train)\n",
    "tfidf_test_pred = rf.predict(tf_idf_test)"
   ]
  },
  {
   "cell_type": "code",
   "execution_count": 103,
   "metadata": {},
   "outputs": [
    {
     "data": {
      "text/plain": [
       "array([[ 1297,     0,     1,     0,     0,     0],\n",
       "       [    0,  1323,     1,     1,     0,     0],\n",
       "       [    0,     0, 45971,     3,     3,     0],\n",
       "       [    0,     0,     4,  6581,     0,     0],\n",
       "       [    0,     0,     0,     0,  6433,     0],\n",
       "       [    0,     0,     0,     0,     0,  3006]])"
      ]
     },
     "execution_count": 103,
     "metadata": {},
     "output_type": "execute_result"
    }
   ],
   "source": [
    "metrics.confusion_matrix(y_train, tfidf_train_pred)"
   ]
  },
  {
   "cell_type": "code",
   "execution_count": 104,
   "metadata": {},
   "outputs": [
    {
     "data": {
      "text/plain": [
       "array([[  223,     3,   192,     1,    12,     0],\n",
       "       [    1,   236,   182,    21,     4,     1],\n",
       "       [    6,     5, 15267,    44,    46,    19],\n",
       "       [    1,     3,   401,  1763,     9,     9],\n",
       "       [    1,     0,   494,    20,  1601,    38],\n",
       "       [    0,     0,   163,     1,    11,   764]])"
      ]
     },
     "execution_count": 104,
     "metadata": {},
     "output_type": "execute_result"
    }
   ],
   "source": [
    "metrics.confusion_matrix(y_test, tfidf_test_pred)"
   ]
  },
  {
   "cell_type": "code",
   "execution_count": 105,
   "metadata": {},
   "outputs": [
    {
     "data": {
      "text/plain": [
       "0.9997988363456302"
      ]
     },
     "execution_count": 105,
     "metadata": {},
     "output_type": "execute_result"
    }
   ],
   "source": [
    "metrics.accuracy_score(y_train, tfidf_train_pred)"
   ]
  },
  {
   "cell_type": "code",
   "execution_count": 106,
   "metadata": {},
   "outputs": [
    {
     "data": {
      "text/plain": [
       "0.9216414446198125"
      ]
     },
     "execution_count": 106,
     "metadata": {},
     "output_type": "execute_result"
    }
   ],
   "source": [
    "metrics.accuracy_score(y_test, tfidf_test_pred)"
   ]
  },
  {
   "cell_type": "code",
   "execution_count": null,
   "metadata": {},
   "outputs": [],
   "source": []
  }
 ],
 "metadata": {
  "kernelspec": {
   "display_name": "Python 3",
   "language": "python",
   "name": "python3"
  }
 },
 "nbformat": 4,
 "nbformat_minor": 4
}
