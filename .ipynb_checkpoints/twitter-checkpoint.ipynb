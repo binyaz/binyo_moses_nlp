{
 "cells": [
  {
   "cell_type": "markdown",
   "metadata": {},
   "source": [
    "# Importing"
   ]
  },
  {
   "cell_type": "code",
   "execution_count": 1,
   "metadata": {},
   "outputs": [
    {
     "name": "stderr",
     "output_type": "stream",
     "text": [
      "[nltk_data] Downloading package punkt to /Users/moseslin/nltk_data...\n",
      "[nltk_data]   Package punkt is already up-to-date!\n",
      "[nltk_data] Downloading package wordnet to\n",
      "[nltk_data]     /Users/moseslin/nltk_data...\n",
      "[nltk_data]   Package wordnet is already up-to-date!\n"
     ]
    }
   ],
   "source": [
    "import pandas as pd\n",
    "import numpy as np\n",
    "import sklearn\n",
    "from sklearn.model_selection import train_test_split\n",
    "from sklearn.preprocessing import LabelEncoder\n",
    "from sklearn.naive_bayes import MultinomialNB\n",
    "from sklearn.ensemble import RandomForestClassifier\n",
    "from sklearn.metrics import accuracy_score, confusion_matrix, f1_score, recall_score, precision_score\n",
    "\n",
    "from sklearn.feature_extraction.text import TfidfVectorizer, CountVectorizer\n",
    "\n",
    "import string\n",
    "import nltk\n",
    "nltk.download('punkt')\n",
    "nltk.download('wordnet')\n",
    "from nltk.corpus import stopwords\n",
    "from nltk import word_tokenize\n",
    "from nltk.stem import WordNetLemmatizer\n",
    "from nltk.stem import PorterStemmer\n",
    "from nltk.probability import FreqDist\n",
    "\n",
    "import matplotlib.pyplot as plt\n",
    "import seaborn as sns\n",
    "from matplotlib import cm\n",
    "from imblearn.over_sampling import ADASYN\n",
    "\n",
    "import re"
   ]
  },
  {
   "cell_type": "code",
   "execution_count": 2,
   "metadata": {},
   "outputs": [],
   "source": [
    "pd.set_option('max_colwidth', None)"
   ]
  },
  {
   "cell_type": "code",
   "execution_count": 3,
   "metadata": {},
   "outputs": [
    {
     "data": {
      "text/html": [
       "<div>\n",
       "<style scoped>\n",
       "    .dataframe tbody tr th:only-of-type {\n",
       "        vertical-align: middle;\n",
       "    }\n",
       "\n",
       "    .dataframe tbody tr th {\n",
       "        vertical-align: top;\n",
       "    }\n",
       "\n",
       "    .dataframe thead th {\n",
       "        text-align: right;\n",
       "    }\n",
       "</style>\n",
       "<table border=\"1\" class=\"dataframe\">\n",
       "  <thead>\n",
       "    <tr style=\"text-align: right;\">\n",
       "      <th></th>\n",
       "      <th>TweetID</th>\n",
       "      <th>Weekday</th>\n",
       "      <th>Hour</th>\n",
       "      <th>Day</th>\n",
       "      <th>Lang</th>\n",
       "      <th>IsReshare</th>\n",
       "      <th>Reach</th>\n",
       "      <th>RetweetCount</th>\n",
       "      <th>Likes</th>\n",
       "      <th>Klout</th>\n",
       "      <th>Sentiment</th>\n",
       "      <th>text</th>\n",
       "      <th>LocationID</th>\n",
       "      <th>UserID</th>\n",
       "    </tr>\n",
       "  </thead>\n",
       "  <tbody>\n",
       "    <tr>\n",
       "      <th>0</th>\n",
       "      <td>tw-682712873332805633</td>\n",
       "      <td>Thursday</td>\n",
       "      <td>17.0</td>\n",
       "      <td>31.0</td>\n",
       "      <td>en</td>\n",
       "      <td>0.0</td>\n",
       "      <td>44.0</td>\n",
       "      <td>0.0</td>\n",
       "      <td>0.0</td>\n",
       "      <td>35.0</td>\n",
       "      <td>0.0</td>\n",
       "      <td>We are hiring: Senior Software Engineer - Proto http://www.reqcloud.com/jobs/719865/?k=0LaPxXuFwczs1e32ZURJKrgCIDMQtRO7BquFSQthUKY&amp;utm_source=twitter&amp;utm_campaign=reqCloud_JobPost #job @awscloud #job #protocol #networking #aws #mediastreaming</td>\n",
       "      <td>3751.0</td>\n",
       "      <td>tw-40932430</td>\n",
       "    </tr>\n",
       "    <tr>\n",
       "      <th>1</th>\n",
       "      <td>tw-682713045357998080</td>\n",
       "      <td>Thursday</td>\n",
       "      <td>17.0</td>\n",
       "      <td>31.0</td>\n",
       "      <td>en</td>\n",
       "      <td>1.0</td>\n",
       "      <td>1810.0</td>\n",
       "      <td>5.0</td>\n",
       "      <td>0.0</td>\n",
       "      <td>53.0</td>\n",
       "      <td>2.0</td>\n",
       "      <td>RT @CodeMineStatus: This is true Amazon Web Services https://aws.amazon.com/ #php #html #html5 #css #webdesign #seo #java #javascript htt</td>\n",
       "      <td>3989.0</td>\n",
       "      <td>tw-3179389829</td>\n",
       "    </tr>\n",
       "    <tr>\n",
       "      <th>2</th>\n",
       "      <td>tw-682713219375476736</td>\n",
       "      <td>Thursday</td>\n",
       "      <td>17.0</td>\n",
       "      <td>31.0</td>\n",
       "      <td>en</td>\n",
       "      <td>0.0</td>\n",
       "      <td>282.0</td>\n",
       "      <td>0.0</td>\n",
       "      <td>0.0</td>\n",
       "      <td>47.0</td>\n",
       "      <td>0.0</td>\n",
       "      <td>Devops Engineer Aws Ansible Cassandra Mysql Ubuntu Ruby On Rails Jobs in Austin TX #Austin #TX #jobs #jobsearch https://www.jobfindly.com/devops-engineer-aws-ansible-cassandra-mysql-ubuntu-ruby-on-rails-jobs-austin-tx.html</td>\n",
       "      <td>3741.0</td>\n",
       "      <td>tw-4624808414</td>\n",
       "    </tr>\n",
       "    <tr>\n",
       "      <th>3</th>\n",
       "      <td>tw-682713436967579648</td>\n",
       "      <td>Thursday</td>\n",
       "      <td>17.0</td>\n",
       "      <td>31.0</td>\n",
       "      <td>en</td>\n",
       "      <td>0.0</td>\n",
       "      <td>2087.0</td>\n",
       "      <td>4.0</td>\n",
       "      <td>0.0</td>\n",
       "      <td>53.0</td>\n",
       "      <td>0.0</td>\n",
       "      <td>Happy New Year to all those AWS instances of ours!</td>\n",
       "      <td>3753.0</td>\n",
       "      <td>tw-356447127</td>\n",
       "    </tr>\n",
       "    <tr>\n",
       "      <th>4</th>\n",
       "      <td>tw-682714048199311366</td>\n",
       "      <td>Thursday</td>\n",
       "      <td>17.0</td>\n",
       "      <td>31.0</td>\n",
       "      <td>en</td>\n",
       "      <td>0.0</td>\n",
       "      <td>953.0</td>\n",
       "      <td>0.0</td>\n",
       "      <td>0.0</td>\n",
       "      <td>47.0</td>\n",
       "      <td>0.0</td>\n",
       "      <td>Amazon is hiring! #Sr. #International Tax Manager - AWS in #Seattle apply now! #jobs http://neuvoo.com/job.php?id=dsvkrujig3&amp;source=twitter&amp;lang=en&amp;client_id=658&amp;l=Seattle%20Washington%20US&amp;k=Sr.%20International%20Tax%20Manager%20-%20AWS http://twitter.com/NeuvooAccSea/status/682714048199311366/photo/1</td>\n",
       "      <td>3751.0</td>\n",
       "      <td>tw-3172686669</td>\n",
       "    </tr>\n",
       "  </tbody>\n",
       "</table>\n",
       "</div>"
      ],
      "text/plain": [
       "                 TweetID   Weekday   Hour   Day  Lang   IsReshare   Reach  \\\n",
       "0  tw-682712873332805633  Thursday   17.0  31.0    en         0.0    44.0   \n",
       "1  tw-682713045357998080  Thursday   17.0  31.0    en         1.0  1810.0   \n",
       "2  tw-682713219375476736  Thursday   17.0  31.0    en         0.0   282.0   \n",
       "3  tw-682713436967579648  Thursday   17.0  31.0    en         0.0  2087.0   \n",
       "4  tw-682714048199311366  Thursday   17.0  31.0    en         0.0   953.0   \n",
       "\n",
       "    RetweetCount   Likes   Klout   Sentiment  \\\n",
       "0            0.0     0.0    35.0         0.0   \n",
       "1            5.0     0.0    53.0         2.0   \n",
       "2            0.0     0.0    47.0         0.0   \n",
       "3            4.0     0.0    53.0         0.0   \n",
       "4            0.0     0.0    47.0         0.0   \n",
       "\n",
       "                                                                                                                                                                                                                                                                                                              text  \\\n",
       "0                                                               We are hiring: Senior Software Engineer - Proto http://www.reqcloud.com/jobs/719865/?k=0LaPxXuFwczs1e32ZURJKrgCIDMQtRO7BquFSQthUKY&utm_source=twitter&utm_campaign=reqCloud_JobPost #job @awscloud #job #protocol #networking #aws #mediastreaming   \n",
       "1                                                                                                                                                                        RT @CodeMineStatus: This is true Amazon Web Services https://aws.amazon.com/ #php #html #html5 #css #webdesign #seo #java #javascript htt   \n",
       "2                                                                                   Devops Engineer Aws Ansible Cassandra Mysql Ubuntu Ruby On Rails Jobs in Austin TX #Austin #TX #jobs #jobsearch https://www.jobfindly.com/devops-engineer-aws-ansible-cassandra-mysql-ubuntu-ruby-on-rails-jobs-austin-tx.html   \n",
       "3                                                                                                                                                                                                                                                               Happy New Year to all those AWS instances of ours!   \n",
       "4  Amazon is hiring! #Sr. #International Tax Manager - AWS in #Seattle apply now! #jobs http://neuvoo.com/job.php?id=dsvkrujig3&source=twitter&lang=en&client_id=658&l=Seattle%20Washington%20US&k=Sr.%20International%20Tax%20Manager%20-%20AWS http://twitter.com/NeuvooAccSea/status/682714048199311366/photo/1   \n",
       "\n",
       "    LocationID         UserID  \n",
       "0       3751.0    tw-40932430  \n",
       "1       3989.0  tw-3179389829  \n",
       "2       3741.0  tw-4624808414  \n",
       "3       3753.0   tw-356447127  \n",
       "4       3751.0  tw-3172686669  "
      ]
     },
     "execution_count": 3,
     "metadata": {},
     "output_type": "execute_result"
    }
   ],
   "source": [
    "df = pd.read_excel('twitterdata.xlsx')\n",
    "df.head()"
   ]
  },
  {
   "cell_type": "markdown",
   "metadata": {},
   "source": [
    "# Cleaning"
   ]
  },
  {
   "cell_type": "code",
   "execution_count": 4,
   "metadata": {},
   "outputs": [
    {
     "data": {
      "text/plain": [
       "Index(['tweetid', 'weekday', 'hour', 'day', 'lang', 'isreshare', 'reach',\n",
       "       'retweetcount', 'likes', 'klout', 'sentiment', 'text', 'locationid',\n",
       "       'userid'],\n",
       "      dtype='object')"
      ]
     },
     "execution_count": 4,
     "metadata": {},
     "output_type": "execute_result"
    }
   ],
   "source": [
    "# Re-naming so they are more manageable\n",
    "\n",
    "df.columns = ['tweetid', 'weekday', 'hour', 'day', 'lang', 'isreshare', 'reach', 'retweetcount', 'likes', 'klout', 'sentiment', 'text', 'locationid', 'userid']\n",
    "df.columns"
   ]
  },
  {
   "cell_type": "code",
   "execution_count": 5,
   "metadata": {},
   "outputs": [],
   "source": [
    "# Majority of tweets are in english.\n",
    "\n",
    "df = df.loc[df['lang'] == 'en']\n",
    "df.drop(columns=['lang'], inplace=True)"
   ]
  },
  {
   "cell_type": "code",
   "execution_count": 6,
   "metadata": {
    "scrolled": false
   },
   "outputs": [
    {
     "data": {
      "text/plain": [
       " 0.000000    61365\n",
       " 1.000000     8723\n",
       " 2.000000     8556\n",
       " 3.000000     3833\n",
       "-1.000000     1762\n",
       "-2.000000     1717\n",
       " 1.500000     1160\n",
       " 4.000000      796\n",
       " 2.500000      691\n",
       " 0.500000      537\n",
       "-3.000000      490\n",
       "-0.500000      273\n",
       "-1.500000      223\n",
       "-4.000000      213\n",
       " 2.666667      160\n",
       "Name: sentiment, dtype: int64"
      ]
     },
     "execution_count": 6,
     "metadata": {},
     "output_type": "execute_result"
    }
   ],
   "source": [
    "# We want to only work with a few sentiment values.\n",
    "\n",
    "df['sentiment'].value_counts().head(15)"
   ]
  },
  {
   "cell_type": "code",
   "execution_count": 7,
   "metadata": {},
   "outputs": [],
   "source": [
    "# Removing rows that do not have the values we want.\n",
    "\n",
    "sentimentlist = [0.0, 1.0, 2.0, 3.0, -1.0, -2.0, -3.0]\n",
    "df = df.loc[df.sentiment.isin(sentimentlist)]"
   ]
  },
  {
   "cell_type": "code",
   "execution_count": 8,
   "metadata": {},
   "outputs": [],
   "source": [
    "# Removing null values as they mess up code\n",
    "\n",
    "df['text'].dropna(inplace=True)"
   ]
  },
  {
   "cell_type": "code",
   "execution_count": 9,
   "metadata": {
    "scrolled": true
   },
   "outputs": [
    {
     "data": {
      "text/plain": [
       "['We are hiring: Senior Software Engineer - Proto http://www.reqcloud.com/jobs/719865/?k=0LaPxXuFwczs1e32ZURJKrgCIDMQtRO7BquFSQthUKY&utm_source=twitter&utm_campaign=reqCloud_JobPost #job @awscloud #job #protocol #networking #aws #mediastreaming',\n",
       " 'RT @CodeMineStatus: This is true Amazon Web Services https://aws.amazon.com/ #php #html #html5 #css #webdesign #seo #java #javascript htt',\n",
       " 'Devops Engineer Aws Ansible Cassandra Mysql Ubuntu Ruby On Rails Jobs in Austin TX #Austin #TX #jobs #jobsearch https://www.jobfindly.com/devops-engineer-aws-ansible-cassandra-mysql-ubuntu-ruby-on-rails-jobs-austin-tx.html',\n",
       " 'Happy New Year to all those AWS instances of ours!',\n",
       " 'Amazon is hiring! #Sr. #International Tax Manager - AWS in #Seattle apply now! #jobs http://neuvoo.com/job.php?id=dsvkrujig3&source=twitter&lang=en&client_id=658&l=Seattle%20Washington%20US&k=Sr.%20International%20Tax%20Manager%20-%20AWS http://twitter.com/NeuvooAccSea/status/682714048199311366/photo/1']"
      ]
     },
     "execution_count": 9,
     "metadata": {},
     "output_type": "execute_result"
    }
   ],
   "source": [
    "# Looking at what we are working with\n",
    "\n",
    "list(df['text'])[:5]"
   ]
  },
  {
   "cell_type": "markdown",
   "metadata": {},
   "source": [
    "# Getting Links"
   ]
  },
  {
   "cell_type": "markdown",
   "metadata": {},
   "source": [
    "We want to remove links from the tweets to make it easier to tokenize the actual tweets. However we want to keep the links, should they exist for a tweet."
   ]
  },
  {
   "cell_type": "code",
   "execution_count": 10,
   "metadata": {},
   "outputs": [
    {
     "data": {
      "text/plain": [
       "0    [http://www.reqcloud.com/jobs/719865/?k=0LaPxXuFwczs1e32ZURJKrgCIDMQtRO7BquFSQthUKY&utm_source=twitter&utm_campaign=reqCloud_JobPost]\n",
       "1                                                                                                                [https://aws.amazon.com/]\n",
       "2                         [https://www.jobfindly.com/devops-engineer-aws-ansible-cassandra-mysql-ubuntu-ruby-on-rails-jobs-austin-tx.html]\n",
       "Name: text, dtype: object"
      ]
     },
     "execution_count": 10,
     "metadata": {},
     "output_type": "execute_result"
    }
   ],
   "source": [
    "url = df['text'].str.findall(r'(http\\S+)')\n",
    "url.head(3)"
   ]
  },
  {
   "cell_type": "code",
   "execution_count": 11,
   "metadata": {},
   "outputs": [
    {
     "data": {
      "text/html": [
       "<div>\n",
       "<style scoped>\n",
       "    .dataframe tbody tr th:only-of-type {\n",
       "        vertical-align: middle;\n",
       "    }\n",
       "\n",
       "    .dataframe tbody tr th {\n",
       "        vertical-align: top;\n",
       "    }\n",
       "\n",
       "    .dataframe thead th {\n",
       "        text-align: right;\n",
       "    }\n",
       "</style>\n",
       "<table border=\"1\" class=\"dataframe\">\n",
       "  <thead>\n",
       "    <tr style=\"text-align: right;\">\n",
       "      <th></th>\n",
       "      <th>tweetid</th>\n",
       "      <th>weekday</th>\n",
       "      <th>hour</th>\n",
       "      <th>day</th>\n",
       "      <th>isreshare</th>\n",
       "      <th>reach</th>\n",
       "      <th>retweetcount</th>\n",
       "      <th>likes</th>\n",
       "      <th>klout</th>\n",
       "      <th>sentiment</th>\n",
       "      <th>text</th>\n",
       "      <th>locationid</th>\n",
       "      <th>userid</th>\n",
       "      <th>links</th>\n",
       "    </tr>\n",
       "  </thead>\n",
       "  <tbody>\n",
       "    <tr>\n",
       "      <th>0</th>\n",
       "      <td>tw-682712873332805633</td>\n",
       "      <td>Thursday</td>\n",
       "      <td>17.0</td>\n",
       "      <td>31.0</td>\n",
       "      <td>0.0</td>\n",
       "      <td>44.0</td>\n",
       "      <td>0.0</td>\n",
       "      <td>0.0</td>\n",
       "      <td>35.0</td>\n",
       "      <td>0.0</td>\n",
       "      <td>We are hiring: Senior Software Engineer - Proto http://www.reqcloud.com/jobs/719865/?k=0LaPxXuFwczs1e32ZURJKrgCIDMQtRO7BquFSQthUKY&amp;utm_source=twitter&amp;utm_campaign=reqCloud_JobPost #job @awscloud #job #protocol #networking #aws #mediastreaming</td>\n",
       "      <td>3751.0</td>\n",
       "      <td>tw-40932430</td>\n",
       "      <td>[http://www.reqcloud.com/jobs/719865/?k=0LaPxXuFwczs1e32ZURJKrgCIDMQtRO7BquFSQthUKY&amp;utm_source=twitter&amp;utm_campaign=reqCloud_JobPost]</td>\n",
       "    </tr>\n",
       "    <tr>\n",
       "      <th>1</th>\n",
       "      <td>tw-682713045357998080</td>\n",
       "      <td>Thursday</td>\n",
       "      <td>17.0</td>\n",
       "      <td>31.0</td>\n",
       "      <td>1.0</td>\n",
       "      <td>1810.0</td>\n",
       "      <td>5.0</td>\n",
       "      <td>0.0</td>\n",
       "      <td>53.0</td>\n",
       "      <td>2.0</td>\n",
       "      <td>RT @CodeMineStatus: This is true Amazon Web Services https://aws.amazon.com/ #php #html #html5 #css #webdesign #seo #java #javascript htt</td>\n",
       "      <td>3989.0</td>\n",
       "      <td>tw-3179389829</td>\n",
       "      <td>[https://aws.amazon.com/]</td>\n",
       "    </tr>\n",
       "    <tr>\n",
       "      <th>2</th>\n",
       "      <td>tw-682713219375476736</td>\n",
       "      <td>Thursday</td>\n",
       "      <td>17.0</td>\n",
       "      <td>31.0</td>\n",
       "      <td>0.0</td>\n",
       "      <td>282.0</td>\n",
       "      <td>0.0</td>\n",
       "      <td>0.0</td>\n",
       "      <td>47.0</td>\n",
       "      <td>0.0</td>\n",
       "      <td>Devops Engineer Aws Ansible Cassandra Mysql Ubuntu Ruby On Rails Jobs in Austin TX #Austin #TX #jobs #jobsearch https://www.jobfindly.com/devops-engineer-aws-ansible-cassandra-mysql-ubuntu-ruby-on-rails-jobs-austin-tx.html</td>\n",
       "      <td>3741.0</td>\n",
       "      <td>tw-4624808414</td>\n",
       "      <td>[https://www.jobfindly.com/devops-engineer-aws-ansible-cassandra-mysql-ubuntu-ruby-on-rails-jobs-austin-tx.html]</td>\n",
       "    </tr>\n",
       "    <tr>\n",
       "      <th>3</th>\n",
       "      <td>tw-682713436967579648</td>\n",
       "      <td>Thursday</td>\n",
       "      <td>17.0</td>\n",
       "      <td>31.0</td>\n",
       "      <td>0.0</td>\n",
       "      <td>2087.0</td>\n",
       "      <td>4.0</td>\n",
       "      <td>0.0</td>\n",
       "      <td>53.0</td>\n",
       "      <td>0.0</td>\n",
       "      <td>Happy New Year to all those AWS instances of ours!</td>\n",
       "      <td>3753.0</td>\n",
       "      <td>tw-356447127</td>\n",
       "      <td>[]</td>\n",
       "    </tr>\n",
       "    <tr>\n",
       "      <th>4</th>\n",
       "      <td>tw-682714048199311366</td>\n",
       "      <td>Thursday</td>\n",
       "      <td>17.0</td>\n",
       "      <td>31.0</td>\n",
       "      <td>0.0</td>\n",
       "      <td>953.0</td>\n",
       "      <td>0.0</td>\n",
       "      <td>0.0</td>\n",
       "      <td>47.0</td>\n",
       "      <td>0.0</td>\n",
       "      <td>Amazon is hiring! #Sr. #International Tax Manager - AWS in #Seattle apply now! #jobs http://neuvoo.com/job.php?id=dsvkrujig3&amp;source=twitter&amp;lang=en&amp;client_id=658&amp;l=Seattle%20Washington%20US&amp;k=Sr.%20International%20Tax%20Manager%20-%20AWS http://twitter.com/NeuvooAccSea/status/682714048199311366/photo/1</td>\n",
       "      <td>3751.0</td>\n",
       "      <td>tw-3172686669</td>\n",
       "      <td>[http://neuvoo.com/job.php?id=dsvkrujig3&amp;source=twitter&amp;lang=en&amp;client_id=658&amp;l=Seattle%20Washington%20US&amp;k=Sr.%20International%20Tax%20Manager%20-%20AWS, http://twitter.com/NeuvooAccSea/status/682714048199311366/photo/1]</td>\n",
       "    </tr>\n",
       "    <tr>\n",
       "      <th>...</th>\n",
       "      <td>...</td>\n",
       "      <td>...</td>\n",
       "      <td>...</td>\n",
       "      <td>...</td>\n",
       "      <td>...</td>\n",
       "      <td>...</td>\n",
       "      <td>...</td>\n",
       "      <td>...</td>\n",
       "      <td>...</td>\n",
       "      <td>...</td>\n",
       "      <td>...</td>\n",
       "      <td>...</td>\n",
       "      <td>...</td>\n",
       "      <td>...</td>\n",
       "    </tr>\n",
       "    <tr>\n",
       "      <th>99994</th>\n",
       "      <td>tw-716349383688720385</td>\n",
       "      <td>Saturday</td>\n",
       "      <td>13.0</td>\n",
       "      <td>2.0</td>\n",
       "      <td>1.0</td>\n",
       "      <td>415.0</td>\n",
       "      <td>15.0</td>\n",
       "      <td>0.0</td>\n",
       "      <td>44.0</td>\n",
       "      <td>0.0</td>\n",
       "      <td>RT @awscloud: .@Jaspersoft built a #DataWarehouse that provides full cloud analytics using Redshift &amp;amp; EMR! https://aws.amazon.com/solutions/case-studies/jaspersoft/?sc_channel=sm&amp;sc_campaign=gc_dw&amp;sc_publisher=tw_go&amp;sc_content=jaspersoft&amp;sc_country=global&amp;sc_geo=global&amp;sc_category=data_warehouse&amp;trk=global_2016_data_warehouse&amp;adbsc=gc_20160402_59959296&amp;adbid=716285623842123776&amp;adbpl=tw&amp;adbpr=66780587 https://</td>\n",
       "      <td>611.0</td>\n",
       "      <td>tw-3316009302</td>\n",
       "      <td>[https://aws.amazon.com/solutions/case-studies/jaspersoft/?sc_channel=sm&amp;sc_campaign=gc_dw&amp;sc_publisher=tw_go&amp;sc_content=jaspersoft&amp;sc_country=global&amp;sc_geo=global&amp;sc_category=data_warehouse&amp;trk=global_2016_data_warehouse&amp;adbsc=gc_20160402_59959296&amp;adbid=716285623842123776&amp;adbpl=tw&amp;adbpr=66780587, https://]</td>\n",
       "    </tr>\n",
       "    <tr>\n",
       "      <th>99996</th>\n",
       "      <td>tw-716349615340199937</td>\n",
       "      <td>Saturday</td>\n",
       "      <td>13.0</td>\n",
       "      <td>2.0</td>\n",
       "      <td>0.0</td>\n",
       "      <td>763.0</td>\n",
       "      <td>0.0</td>\n",
       "      <td>0.0</td>\n",
       "      <td>29.0</td>\n",
       "      <td>0.0</td>\n",
       "      <td>I added a video to a @YouTube playlist https://www.youtube.com/watch?v=YPf7wSEq9d0&amp;feature=youtu.be&amp;a Module 3 : AWS EC2 Instance Status Checks (System and Instance level)</td>\n",
       "      <td>1332.0</td>\n",
       "      <td>tw-1143330170</td>\n",
       "      <td>[https://www.youtube.com/watch?v=YPf7wSEq9d0&amp;feature=youtu.be&amp;a]</td>\n",
       "    </tr>\n",
       "    <tr>\n",
       "      <th>99997</th>\n",
       "      <td>tw-716351557516722176</td>\n",
       "      <td>Saturday</td>\n",
       "      <td>13.0</td>\n",
       "      <td>2.0</td>\n",
       "      <td>1.0</td>\n",
       "      <td>122.0</td>\n",
       "      <td>435.0</td>\n",
       "      <td>0.0</td>\n",
       "      <td>17.0</td>\n",
       "      <td>1.0</td>\n",
       "      <td>RT @awscloud: Test your iOS Android &amp;amp; web apps against real phones and tablets on AWS. Start today for free!  https://cards.twitter.com/cards/13rc8b/1ihbc</td>\n",
       "      <td>1336.0</td>\n",
       "      <td>tw-139346924</td>\n",
       "      <td>[https://cards.twitter.com/cards/13rc8b/1ihbc]</td>\n",
       "    </tr>\n",
       "    <tr>\n",
       "      <th>99998</th>\n",
       "      <td>tw-716352501860196352</td>\n",
       "      <td>Saturday</td>\n",
       "      <td>13.0</td>\n",
       "      <td>2.0</td>\n",
       "      <td>1.0</td>\n",
       "      <td>287.0</td>\n",
       "      <td>30.0</td>\n",
       "      <td>0.0</td>\n",
       "      <td>42.0</td>\n",
       "      <td>0.0</td>\n",
       "      <td>RT @goserverless: Serverless Offline: Emulate AWS Lambda &amp;amp; API Gateway locally to speed up your development cycles - https://t.co/CcXASlhQq</td>\n",
       "      <td>3795.0</td>\n",
       "      <td>tw-21826302</td>\n",
       "      <td>[https://t.co/CcXASlhQq]</td>\n",
       "    </tr>\n",
       "    <tr>\n",
       "      <th>99999</th>\n",
       "      <td>tw-716352771209887744</td>\n",
       "      <td>Saturday</td>\n",
       "      <td>13.0</td>\n",
       "      <td>2.0</td>\n",
       "      <td>0.0</td>\n",
       "      <td>2422.0</td>\n",
       "      <td>1.0</td>\n",
       "      <td>0.0</td>\n",
       "      <td>34.0</td>\n",
       "      <td>3.0</td>\n",
       "      <td>Great turn out for the AWS Plant Sale and the Friends of Historic Northport's Bake sale this morning in Downtown Northport !</td>\n",
       "      <td>4007.0</td>\n",
       "      <td>tw-2286856224</td>\n",
       "      <td>[]</td>\n",
       "    </tr>\n",
       "  </tbody>\n",
       "</table>\n",
       "<p>86446 rows × 14 columns</p>\n",
       "</div>"
      ],
      "text/plain": [
       "                     tweetid   weekday  hour   day  isreshare   reach  \\\n",
       "0      tw-682712873332805633  Thursday  17.0  31.0        0.0    44.0   \n",
       "1      tw-682713045357998080  Thursday  17.0  31.0        1.0  1810.0   \n",
       "2      tw-682713219375476736  Thursday  17.0  31.0        0.0   282.0   \n",
       "3      tw-682713436967579648  Thursday  17.0  31.0        0.0  2087.0   \n",
       "4      tw-682714048199311366  Thursday  17.0  31.0        0.0   953.0   \n",
       "...                      ...       ...   ...   ...        ...     ...   \n",
       "99994  tw-716349383688720385  Saturday  13.0   2.0        1.0   415.0   \n",
       "99996  tw-716349615340199937  Saturday  13.0   2.0        0.0   763.0   \n",
       "99997  tw-716351557516722176  Saturday  13.0   2.0        1.0   122.0   \n",
       "99998  tw-716352501860196352  Saturday  13.0   2.0        1.0   287.0   \n",
       "99999  tw-716352771209887744  Saturday  13.0   2.0        0.0  2422.0   \n",
       "\n",
       "       retweetcount  likes  klout  sentiment  \\\n",
       "0               0.0    0.0   35.0        0.0   \n",
       "1               5.0    0.0   53.0        2.0   \n",
       "2               0.0    0.0   47.0        0.0   \n",
       "3               4.0    0.0   53.0        0.0   \n",
       "4               0.0    0.0   47.0        0.0   \n",
       "...             ...    ...    ...        ...   \n",
       "99994          15.0    0.0   44.0        0.0   \n",
       "99996           0.0    0.0   29.0        0.0   \n",
       "99997         435.0    0.0   17.0        1.0   \n",
       "99998          30.0    0.0   42.0        0.0   \n",
       "99999           1.0    0.0   34.0        3.0   \n",
       "\n",
       "                                                                                                                                                                                                                                                                                                                                                                                                                                   text  \\\n",
       "0                                                                                                                                                                                    We are hiring: Senior Software Engineer - Proto http://www.reqcloud.com/jobs/719865/?k=0LaPxXuFwczs1e32ZURJKrgCIDMQtRO7BquFSQthUKY&utm_source=twitter&utm_campaign=reqCloud_JobPost #job @awscloud #job #protocol #networking #aws #mediastreaming   \n",
       "1                                                                                                                                                                                                                                                                                             RT @CodeMineStatus: This is true Amazon Web Services https://aws.amazon.com/ #php #html #html5 #css #webdesign #seo #java #javascript htt   \n",
       "2                                                                                                                                                                                                        Devops Engineer Aws Ansible Cassandra Mysql Ubuntu Ruby On Rails Jobs in Austin TX #Austin #TX #jobs #jobsearch https://www.jobfindly.com/devops-engineer-aws-ansible-cassandra-mysql-ubuntu-ruby-on-rails-jobs-austin-tx.html   \n",
       "3                                                                                                                                                                                                                                                                                                                                                                                    Happy New Year to all those AWS instances of ours!   \n",
       "4                                                                                                                       Amazon is hiring! #Sr. #International Tax Manager - AWS in #Seattle apply now! #jobs http://neuvoo.com/job.php?id=dsvkrujig3&source=twitter&lang=en&client_id=658&l=Seattle%20Washington%20US&k=Sr.%20International%20Tax%20Manager%20-%20AWS http://twitter.com/NeuvooAccSea/status/682714048199311366/photo/1   \n",
       "...                                                                                                                                                                                                                                                                                                                                                                                                                                 ...   \n",
       "99994  RT @awscloud: .@Jaspersoft built a #DataWarehouse that provides full cloud analytics using Redshift &amp; EMR! https://aws.amazon.com/solutions/case-studies/jaspersoft/?sc_channel=sm&sc_campaign=gc_dw&sc_publisher=tw_go&sc_content=jaspersoft&sc_country=global&sc_geo=global&sc_category=data_warehouse&trk=global_2016_data_warehouse&adbsc=gc_20160402_59959296&adbid=716285623842123776&adbpl=tw&adbpr=66780587 https://   \n",
       "99996                                                                                                                                                                                                                                                       I added a video to a @YouTube playlist https://www.youtube.com/watch?v=YPf7wSEq9d0&feature=youtu.be&a Module 3 : AWS EC2 Instance Status Checks (System and Instance level)   \n",
       "99997                                                                                                                                                                                                                                                                    RT @awscloud: Test your iOS Android &amp; web apps against real phones and tablets on AWS. Start today for free!  https://cards.twitter.com/cards/13rc8b/1ihbc   \n",
       "99998                                                                                                                                                                                                                                                                                   RT @goserverless: Serverless Offline: Emulate AWS Lambda &amp; API Gateway locally to speed up your development cycles - https://t.co/CcXASlhQq   \n",
       "99999                                                                                                                                                                                                                                                                                                      Great turn out for the AWS Plant Sale and the Friends of Historic Northport's Bake sale this morning in Downtown Northport !   \n",
       "\n",
       "       locationid         userid  \\\n",
       "0          3751.0    tw-40932430   \n",
       "1          3989.0  tw-3179389829   \n",
       "2          3741.0  tw-4624808414   \n",
       "3          3753.0   tw-356447127   \n",
       "4          3751.0  tw-3172686669   \n",
       "...           ...            ...   \n",
       "99994       611.0  tw-3316009302   \n",
       "99996      1332.0  tw-1143330170   \n",
       "99997      1336.0   tw-139346924   \n",
       "99998      3795.0    tw-21826302   \n",
       "99999      4007.0  tw-2286856224   \n",
       "\n",
       "                                                                                                                                                                                                                                                                                                                      links  \n",
       "0                                                                                                                                                                                     [http://www.reqcloud.com/jobs/719865/?k=0LaPxXuFwczs1e32ZURJKrgCIDMQtRO7BquFSQthUKY&utm_source=twitter&utm_campaign=reqCloud_JobPost]  \n",
       "1                                                                                                                                                                                                                                                                                                 [https://aws.amazon.com/]  \n",
       "2                                                                                                                                                                                                          [https://www.jobfindly.com/devops-engineer-aws-ansible-cassandra-mysql-ubuntu-ruby-on-rails-jobs-austin-tx.html]  \n",
       "3                                                                                                                                                                                                                                                                                                                        []  \n",
       "4                                                                                             [http://neuvoo.com/job.php?id=dsvkrujig3&source=twitter&lang=en&client_id=658&l=Seattle%20Washington%20US&k=Sr.%20International%20Tax%20Manager%20-%20AWS, http://twitter.com/NeuvooAccSea/status/682714048199311366/photo/1]  \n",
       "...                                                                                                                                                                                                                                                                                                                     ...  \n",
       "99994  [https://aws.amazon.com/solutions/case-studies/jaspersoft/?sc_channel=sm&sc_campaign=gc_dw&sc_publisher=tw_go&sc_content=jaspersoft&sc_country=global&sc_geo=global&sc_category=data_warehouse&trk=global_2016_data_warehouse&adbsc=gc_20160402_59959296&adbid=716285623842123776&adbpl=tw&adbpr=66780587, https://]  \n",
       "99996                                                                                                                                                                                                                                                      [https://www.youtube.com/watch?v=YPf7wSEq9d0&feature=youtu.be&a]  \n",
       "99997                                                                                                                                                                                                                                                                        [https://cards.twitter.com/cards/13rc8b/1ihbc]  \n",
       "99998                                                                                                                                                                                                                                                                                              [https://t.co/CcXASlhQq]  \n",
       "99999                                                                                                                                                                                                                                                                                                                    []  \n",
       "\n",
       "[86446 rows x 14 columns]"
      ]
     },
     "execution_count": 11,
     "metadata": {},
     "output_type": "execute_result"
    }
   ],
   "source": [
    "df['links'] = pd.DataFrame(url)\n",
    "df"
   ]
  },
  {
   "cell_type": "markdown",
   "metadata": {},
   "source": [
    "# Removing links from tweets"
   ]
  },
  {
   "cell_type": "code",
   "execution_count": 12,
   "metadata": {},
   "outputs": [],
   "source": [
    "df['text'].dropna(inplace=True)"
   ]
  },
  {
   "cell_type": "code",
   "execution_count": 13,
   "metadata": {},
   "outputs": [],
   "source": [
    "def removelink(tweet):\n",
    "    result = re.sub(r\"http\\S+\", \"\", tweet)\n",
    "    return result"
   ]
  },
  {
   "cell_type": "code",
   "execution_count": 14,
   "metadata": {
    "scrolled": true
   },
   "outputs": [
    {
     "data": {
      "text/html": [
       "<div>\n",
       "<style scoped>\n",
       "    .dataframe tbody tr th:only-of-type {\n",
       "        vertical-align: middle;\n",
       "    }\n",
       "\n",
       "    .dataframe tbody tr th {\n",
       "        vertical-align: top;\n",
       "    }\n",
       "\n",
       "    .dataframe thead th {\n",
       "        text-align: right;\n",
       "    }\n",
       "</style>\n",
       "<table border=\"1\" class=\"dataframe\">\n",
       "  <thead>\n",
       "    <tr style=\"text-align: right;\">\n",
       "      <th></th>\n",
       "      <th>tweetid</th>\n",
       "      <th>weekday</th>\n",
       "      <th>hour</th>\n",
       "      <th>day</th>\n",
       "      <th>isreshare</th>\n",
       "      <th>reach</th>\n",
       "      <th>retweetcount</th>\n",
       "      <th>likes</th>\n",
       "      <th>klout</th>\n",
       "      <th>sentiment</th>\n",
       "      <th>text</th>\n",
       "      <th>locationid</th>\n",
       "      <th>userid</th>\n",
       "      <th>links</th>\n",
       "    </tr>\n",
       "  </thead>\n",
       "  <tbody>\n",
       "    <tr>\n",
       "      <th>0</th>\n",
       "      <td>tw-682712873332805633</td>\n",
       "      <td>Thursday</td>\n",
       "      <td>17.0</td>\n",
       "      <td>31.0</td>\n",
       "      <td>0.0</td>\n",
       "      <td>44.0</td>\n",
       "      <td>0.0</td>\n",
       "      <td>0.0</td>\n",
       "      <td>35.0</td>\n",
       "      <td>0.0</td>\n",
       "      <td>We are hiring: Senior Software Engineer - Proto  #job @awscloud #job #protocol #networking #aws #mediastreaming</td>\n",
       "      <td>3751.0</td>\n",
       "      <td>tw-40932430</td>\n",
       "      <td>[http://www.reqcloud.com/jobs/719865/?k=0LaPxXuFwczs1e32ZURJKrgCIDMQtRO7BquFSQthUKY&amp;utm_source=twitter&amp;utm_campaign=reqCloud_JobPost]</td>\n",
       "    </tr>\n",
       "    <tr>\n",
       "      <th>1</th>\n",
       "      <td>tw-682713045357998080</td>\n",
       "      <td>Thursday</td>\n",
       "      <td>17.0</td>\n",
       "      <td>31.0</td>\n",
       "      <td>1.0</td>\n",
       "      <td>1810.0</td>\n",
       "      <td>5.0</td>\n",
       "      <td>0.0</td>\n",
       "      <td>53.0</td>\n",
       "      <td>2.0</td>\n",
       "      <td>RT @CodeMineStatus: This is true Amazon Web Services  #php #html #html5 #css #webdesign #seo #java #javascript htt</td>\n",
       "      <td>3989.0</td>\n",
       "      <td>tw-3179389829</td>\n",
       "      <td>[https://aws.amazon.com/]</td>\n",
       "    </tr>\n",
       "    <tr>\n",
       "      <th>2</th>\n",
       "      <td>tw-682713219375476736</td>\n",
       "      <td>Thursday</td>\n",
       "      <td>17.0</td>\n",
       "      <td>31.0</td>\n",
       "      <td>0.0</td>\n",
       "      <td>282.0</td>\n",
       "      <td>0.0</td>\n",
       "      <td>0.0</td>\n",
       "      <td>47.0</td>\n",
       "      <td>0.0</td>\n",
       "      <td>Devops Engineer Aws Ansible Cassandra Mysql Ubuntu Ruby On Rails Jobs in Austin TX #Austin #TX #jobs #jobsearch</td>\n",
       "      <td>3741.0</td>\n",
       "      <td>tw-4624808414</td>\n",
       "      <td>[https://www.jobfindly.com/devops-engineer-aws-ansible-cassandra-mysql-ubuntu-ruby-on-rails-jobs-austin-tx.html]</td>\n",
       "    </tr>\n",
       "    <tr>\n",
       "      <th>3</th>\n",
       "      <td>tw-682713436967579648</td>\n",
       "      <td>Thursday</td>\n",
       "      <td>17.0</td>\n",
       "      <td>31.0</td>\n",
       "      <td>0.0</td>\n",
       "      <td>2087.0</td>\n",
       "      <td>4.0</td>\n",
       "      <td>0.0</td>\n",
       "      <td>53.0</td>\n",
       "      <td>0.0</td>\n",
       "      <td>Happy New Year to all those AWS instances of ours!</td>\n",
       "      <td>3753.0</td>\n",
       "      <td>tw-356447127</td>\n",
       "      <td>[]</td>\n",
       "    </tr>\n",
       "    <tr>\n",
       "      <th>4</th>\n",
       "      <td>tw-682714048199311366</td>\n",
       "      <td>Thursday</td>\n",
       "      <td>17.0</td>\n",
       "      <td>31.0</td>\n",
       "      <td>0.0</td>\n",
       "      <td>953.0</td>\n",
       "      <td>0.0</td>\n",
       "      <td>0.0</td>\n",
       "      <td>47.0</td>\n",
       "      <td>0.0</td>\n",
       "      <td>Amazon is hiring! #Sr. #International Tax Manager - AWS in #Seattle apply now! #jobs</td>\n",
       "      <td>3751.0</td>\n",
       "      <td>tw-3172686669</td>\n",
       "      <td>[http://neuvoo.com/job.php?id=dsvkrujig3&amp;source=twitter&amp;lang=en&amp;client_id=658&amp;l=Seattle%20Washington%20US&amp;k=Sr.%20International%20Tax%20Manager%20-%20AWS, http://twitter.com/NeuvooAccSea/status/682714048199311366/photo/1]</td>\n",
       "    </tr>\n",
       "    <tr>\n",
       "      <th>...</th>\n",
       "      <td>...</td>\n",
       "      <td>...</td>\n",
       "      <td>...</td>\n",
       "      <td>...</td>\n",
       "      <td>...</td>\n",
       "      <td>...</td>\n",
       "      <td>...</td>\n",
       "      <td>...</td>\n",
       "      <td>...</td>\n",
       "      <td>...</td>\n",
       "      <td>...</td>\n",
       "      <td>...</td>\n",
       "      <td>...</td>\n",
       "      <td>...</td>\n",
       "    </tr>\n",
       "    <tr>\n",
       "      <th>99994</th>\n",
       "      <td>tw-716349383688720385</td>\n",
       "      <td>Saturday</td>\n",
       "      <td>13.0</td>\n",
       "      <td>2.0</td>\n",
       "      <td>1.0</td>\n",
       "      <td>415.0</td>\n",
       "      <td>15.0</td>\n",
       "      <td>0.0</td>\n",
       "      <td>44.0</td>\n",
       "      <td>0.0</td>\n",
       "      <td>RT @awscloud: .@Jaspersoft built a #DataWarehouse that provides full cloud analytics using Redshift &amp;amp; EMR!</td>\n",
       "      <td>611.0</td>\n",
       "      <td>tw-3316009302</td>\n",
       "      <td>[https://aws.amazon.com/solutions/case-studies/jaspersoft/?sc_channel=sm&amp;sc_campaign=gc_dw&amp;sc_publisher=tw_go&amp;sc_content=jaspersoft&amp;sc_country=global&amp;sc_geo=global&amp;sc_category=data_warehouse&amp;trk=global_2016_data_warehouse&amp;adbsc=gc_20160402_59959296&amp;adbid=716285623842123776&amp;adbpl=tw&amp;adbpr=66780587, https://]</td>\n",
       "    </tr>\n",
       "    <tr>\n",
       "      <th>99996</th>\n",
       "      <td>tw-716349615340199937</td>\n",
       "      <td>Saturday</td>\n",
       "      <td>13.0</td>\n",
       "      <td>2.0</td>\n",
       "      <td>0.0</td>\n",
       "      <td>763.0</td>\n",
       "      <td>0.0</td>\n",
       "      <td>0.0</td>\n",
       "      <td>29.0</td>\n",
       "      <td>0.0</td>\n",
       "      <td>I added a video to a @YouTube playlist  Module 3 : AWS EC2 Instance Status Checks (System and Instance level)</td>\n",
       "      <td>1332.0</td>\n",
       "      <td>tw-1143330170</td>\n",
       "      <td>[https://www.youtube.com/watch?v=YPf7wSEq9d0&amp;feature=youtu.be&amp;a]</td>\n",
       "    </tr>\n",
       "    <tr>\n",
       "      <th>99997</th>\n",
       "      <td>tw-716351557516722176</td>\n",
       "      <td>Saturday</td>\n",
       "      <td>13.0</td>\n",
       "      <td>2.0</td>\n",
       "      <td>1.0</td>\n",
       "      <td>122.0</td>\n",
       "      <td>435.0</td>\n",
       "      <td>0.0</td>\n",
       "      <td>17.0</td>\n",
       "      <td>1.0</td>\n",
       "      <td>RT @awscloud: Test your iOS Android &amp;amp; web apps against real phones and tablets on AWS. Start today for free!</td>\n",
       "      <td>1336.0</td>\n",
       "      <td>tw-139346924</td>\n",
       "      <td>[https://cards.twitter.com/cards/13rc8b/1ihbc]</td>\n",
       "    </tr>\n",
       "    <tr>\n",
       "      <th>99998</th>\n",
       "      <td>tw-716352501860196352</td>\n",
       "      <td>Saturday</td>\n",
       "      <td>13.0</td>\n",
       "      <td>2.0</td>\n",
       "      <td>1.0</td>\n",
       "      <td>287.0</td>\n",
       "      <td>30.0</td>\n",
       "      <td>0.0</td>\n",
       "      <td>42.0</td>\n",
       "      <td>0.0</td>\n",
       "      <td>RT @goserverless: Serverless Offline: Emulate AWS Lambda &amp;amp; API Gateway locally to speed up your development cycles -</td>\n",
       "      <td>3795.0</td>\n",
       "      <td>tw-21826302</td>\n",
       "      <td>[https://t.co/CcXASlhQq]</td>\n",
       "    </tr>\n",
       "    <tr>\n",
       "      <th>99999</th>\n",
       "      <td>tw-716352771209887744</td>\n",
       "      <td>Saturday</td>\n",
       "      <td>13.0</td>\n",
       "      <td>2.0</td>\n",
       "      <td>0.0</td>\n",
       "      <td>2422.0</td>\n",
       "      <td>1.0</td>\n",
       "      <td>0.0</td>\n",
       "      <td>34.0</td>\n",
       "      <td>3.0</td>\n",
       "      <td>Great turn out for the AWS Plant Sale and the Friends of Historic Northport's Bake sale this morning in Downtown Northport !</td>\n",
       "      <td>4007.0</td>\n",
       "      <td>tw-2286856224</td>\n",
       "      <td>[]</td>\n",
       "    </tr>\n",
       "  </tbody>\n",
       "</table>\n",
       "<p>86446 rows × 14 columns</p>\n",
       "</div>"
      ],
      "text/plain": [
       "                     tweetid   weekday  hour   day  isreshare   reach  \\\n",
       "0      tw-682712873332805633  Thursday  17.0  31.0        0.0    44.0   \n",
       "1      tw-682713045357998080  Thursday  17.0  31.0        1.0  1810.0   \n",
       "2      tw-682713219375476736  Thursday  17.0  31.0        0.0   282.0   \n",
       "3      tw-682713436967579648  Thursday  17.0  31.0        0.0  2087.0   \n",
       "4      tw-682714048199311366  Thursday  17.0  31.0        0.0   953.0   \n",
       "...                      ...       ...   ...   ...        ...     ...   \n",
       "99994  tw-716349383688720385  Saturday  13.0   2.0        1.0   415.0   \n",
       "99996  tw-716349615340199937  Saturday  13.0   2.0        0.0   763.0   \n",
       "99997  tw-716351557516722176  Saturday  13.0   2.0        1.0   122.0   \n",
       "99998  tw-716352501860196352  Saturday  13.0   2.0        1.0   287.0   \n",
       "99999  tw-716352771209887744  Saturday  13.0   2.0        0.0  2422.0   \n",
       "\n",
       "       retweetcount  likes  klout  sentiment  \\\n",
       "0               0.0    0.0   35.0        0.0   \n",
       "1               5.0    0.0   53.0        2.0   \n",
       "2               0.0    0.0   47.0        0.0   \n",
       "3               4.0    0.0   53.0        0.0   \n",
       "4               0.0    0.0   47.0        0.0   \n",
       "...             ...    ...    ...        ...   \n",
       "99994          15.0    0.0   44.0        0.0   \n",
       "99996           0.0    0.0   29.0        0.0   \n",
       "99997         435.0    0.0   17.0        1.0   \n",
       "99998          30.0    0.0   42.0        0.0   \n",
       "99999           1.0    0.0   34.0        3.0   \n",
       "\n",
       "                                                                                                                               text  \\\n",
       "0                   We are hiring: Senior Software Engineer - Proto  #job @awscloud #job #protocol #networking #aws #mediastreaming   \n",
       "1                RT @CodeMineStatus: This is true Amazon Web Services  #php #html #html5 #css #webdesign #seo #java #javascript htt   \n",
       "2                  Devops Engineer Aws Ansible Cassandra Mysql Ubuntu Ruby On Rails Jobs in Austin TX #Austin #TX #jobs #jobsearch    \n",
       "3                                                                                Happy New Year to all those AWS instances of ours!   \n",
       "4                                            Amazon is hiring! #Sr. #International Tax Manager - AWS in #Seattle apply now! #jobs     \n",
       "...                                                                                                                             ...   \n",
       "99994              RT @awscloud: .@Jaspersoft built a #DataWarehouse that provides full cloud analytics using Redshift &amp; EMR!     \n",
       "99996                 I added a video to a @YouTube playlist  Module 3 : AWS EC2 Instance Status Checks (System and Instance level)   \n",
       "99997            RT @awscloud: Test your iOS Android &amp; web apps against real phones and tablets on AWS. Start today for free!     \n",
       "99998     RT @goserverless: Serverless Offline: Emulate AWS Lambda &amp; API Gateway locally to speed up your development cycles -    \n",
       "99999  Great turn out for the AWS Plant Sale and the Friends of Historic Northport's Bake sale this morning in Downtown Northport !   \n",
       "\n",
       "       locationid         userid  \\\n",
       "0          3751.0    tw-40932430   \n",
       "1          3989.0  tw-3179389829   \n",
       "2          3741.0  tw-4624808414   \n",
       "3          3753.0   tw-356447127   \n",
       "4          3751.0  tw-3172686669   \n",
       "...           ...            ...   \n",
       "99994       611.0  tw-3316009302   \n",
       "99996      1332.0  tw-1143330170   \n",
       "99997      1336.0   tw-139346924   \n",
       "99998      3795.0    tw-21826302   \n",
       "99999      4007.0  tw-2286856224   \n",
       "\n",
       "                                                                                                                                                                                                                                                                                                                      links  \n",
       "0                                                                                                                                                                                     [http://www.reqcloud.com/jobs/719865/?k=0LaPxXuFwczs1e32ZURJKrgCIDMQtRO7BquFSQthUKY&utm_source=twitter&utm_campaign=reqCloud_JobPost]  \n",
       "1                                                                                                                                                                                                                                                                                                 [https://aws.amazon.com/]  \n",
       "2                                                                                                                                                                                                          [https://www.jobfindly.com/devops-engineer-aws-ansible-cassandra-mysql-ubuntu-ruby-on-rails-jobs-austin-tx.html]  \n",
       "3                                                                                                                                                                                                                                                                                                                        []  \n",
       "4                                                                                             [http://neuvoo.com/job.php?id=dsvkrujig3&source=twitter&lang=en&client_id=658&l=Seattle%20Washington%20US&k=Sr.%20International%20Tax%20Manager%20-%20AWS, http://twitter.com/NeuvooAccSea/status/682714048199311366/photo/1]  \n",
       "...                                                                                                                                                                                                                                                                                                                     ...  \n",
       "99994  [https://aws.amazon.com/solutions/case-studies/jaspersoft/?sc_channel=sm&sc_campaign=gc_dw&sc_publisher=tw_go&sc_content=jaspersoft&sc_country=global&sc_geo=global&sc_category=data_warehouse&trk=global_2016_data_warehouse&adbsc=gc_20160402_59959296&adbid=716285623842123776&adbpl=tw&adbpr=66780587, https://]  \n",
       "99996                                                                                                                                                                                                                                                      [https://www.youtube.com/watch?v=YPf7wSEq9d0&feature=youtu.be&a]  \n",
       "99997                                                                                                                                                                                                                                                                        [https://cards.twitter.com/cards/13rc8b/1ihbc]  \n",
       "99998                                                                                                                                                                                                                                                                                              [https://t.co/CcXASlhQq]  \n",
       "99999                                                                                                                                                                                                                                                                                                                    []  \n",
       "\n",
       "[86446 rows x 14 columns]"
      ]
     },
     "execution_count": 14,
     "metadata": {},
     "output_type": "execute_result"
    }
   ],
   "source": [
    "df['text'] = df['text'].apply(lambda x: removelink(x))\n",
    "df"
   ]
  },
  {
   "cell_type": "markdown",
   "metadata": {},
   "source": [
    "# Tokenizing"
   ]
  },
  {
   "cell_type": "code",
   "execution_count": 15,
   "metadata": {},
   "outputs": [],
   "source": [
    "stopwords_list = stopwords.words('english') + list(string.punctuation)\n",
    "stopwords_list += [\"''\", '\"\"', '...', '``', 'aws', 'rt', 'amazon', 'awscloud', 'cloud']\n",
    "stopwords_list += [\"'s\", \"n't\"]\n",
    "\n",
    "# removing several extremely common words like aws, amazon, awscloud, which most of these tweets refer to.\n",
    "# removing weird stuff like 's and n't"
   ]
  },
  {
   "cell_type": "code",
   "execution_count": 16,
   "metadata": {},
   "outputs": [],
   "source": [
    "def process_things(things):\n",
    "    tokens = nltk.word_tokenize(things)\n",
    "    stopwords_removed = [token.lower() for token in tokens if token.lower() not in stopwords_list]\n",
    "    return stopwords_removed"
   ]
  },
  {
   "cell_type": "code",
   "execution_count": 17,
   "metadata": {},
   "outputs": [],
   "source": [
    "df['text'].dropna(inplace=True)"
   ]
  },
  {
   "cell_type": "code",
   "execution_count": 18,
   "metadata": {
    "scrolled": true
   },
   "outputs": [
    {
     "name": "stdout",
     "output_type": "stream",
     "text": [
      "86445\n",
      "746599\n"
     ]
    }
   ],
   "source": [
    "data = list(map(process_things, df['text']))\n",
    "# concatenating list of lists into flat list\n",
    "alldata = [item for elem in data for item in elem]\n",
    "\n",
    "\n",
    "# checking to see how many of each we have and if it worked\n",
    "print(len(data))\n",
    "print(len(alldata))"
   ]
  },
  {
   "cell_type": "code",
   "execution_count": 19,
   "metadata": {},
   "outputs": [
    {
     "data": {
      "text/plain": [
       "746599"
      ]
     },
     "execution_count": 19,
     "metadata": {},
     "output_type": "execute_result"
    }
   ],
   "source": [
    "lemmatizer = WordNetLemmatizer()\n",
    "lemdata = []\n",
    "for i in alldata:\n",
    "    lemdata.append(lemmatizer.lemmatize(i))\n",
    "    \n",
    "len(lemdata)"
   ]
  },
  {
   "cell_type": "code",
   "execution_count": 20,
   "metadata": {
    "scrolled": true
   },
   "outputs": [],
   "source": [
    "# Checking total unique words\n",
    "# Takes a while to run\n",
    "\n",
    "# total_vocab = []\n",
    "# for word in alldata:\n",
    "#    if word not in total_vocab:\n",
    "#        total_vocab.append(word)\n",
    "# len(total_vocab)"
   ]
  },
  {
   "cell_type": "code",
   "execution_count": 21,
   "metadata": {},
   "outputs": [
    {
     "data": {
      "text/plain": [
       "[('service', 13931),\n",
       " ('job', 10081),\n",
       " ('web', 9152),\n",
       " ('new', 7683),\n",
       " ('amp', 6687),\n",
       " ('lambda', 5834),\n",
       " ('engineer', 4968),\n",
       " ('azure', 4661),\n",
       " ('data', 4404),\n",
       " ('google', 4309),\n",
       " ('hiring', 3642),\n",
       " ('blog', 3641),\n",
       " ('using', 3545),\n",
       " ('via', 3496),\n",
       " ('devops', 3364),\n",
       " ('free', 3106),\n",
       " ('learn', 3089),\n",
       " ('security', 2920),\n",
       " ('support', 2848),\n",
       " ('manager', 2562)]"
      ]
     },
     "execution_count": 21,
     "metadata": {},
     "output_type": "execute_result"
    }
   ],
   "source": [
    "# Checking top 20 most common words\n",
    "\n",
    "data_freqdist = FreqDist(lemdata)\n",
    "data_freqdist.most_common(20)"
   ]
  },
  {
   "cell_type": "code",
   "execution_count": 22,
   "metadata": {
    "scrolled": true
   },
   "outputs": [
    {
     "data": {
      "image/png": "[encoded data removed]",
      "text/plain": [
       "<Figure size 1152x720 with 1 Axes>"
      ]
     },
     "metadata": {
      "needs_background": "light"
     },
     "output_type": "display_data"
    }
   ],
   "source": [
    "mostcommonwords20 = data_freqdist.most_common(20)\n",
    "\n",
    "plt.figure(figsize=(16, 10))\n",
    "plt.bar(range(len(mostcommonwords20)), [val[1] for val in mostcommonwords20], align='center')\n",
    "plt.xticks(range(len(mostcommonwords20)), [val[0] for val in mostcommonwords20])\n",
    "plt.xticks(rotation=70)\n",
    "plt.ylabel('Number of times the word appears')\n",
    "plt.title('Top 20 most common words')\n",
    "plt.show()"
   ]
  },
  {
   "cell_type": "markdown",
   "metadata": {},
   "source": [
    "# EDA for all sentiment types"
   ]
  },
  {
   "cell_type": "markdown",
   "metadata": {},
   "source": [
    "================================================================================================================"
   ]
  },
  {
   "cell_type": "markdown",
   "metadata": {},
   "source": [
    "## EDA for Sentiment 0"
   ]
  },
  {
   "cell_type": "code",
   "execution_count": 23,
   "metadata": {},
   "outputs": [
    {
     "name": "stderr",
     "output_type": "stream",
     "text": [
      "/opt/anaconda3/lib/python3.7/site-packages/pandas/core/series.py:4494: SettingWithCopyWarning: \n",
      "A value is trying to be set on a copy of a slice from a DataFrame\n",
      "\n",
      "See the caveats in the documentation: https://pandas.pydata.org/pandas-docs/stable/user_guide/indexing.html#returning-a-view-versus-a-copy\n",
      "  self._update_inplace(result)\n"
     ]
    },
    {
     "data": {
      "text/plain": [
       "[('services', 8030),\n",
       " ('web', 7037),\n",
       " ('new', 6145),\n",
       " ('jobs', 4845),\n",
       " ('job', 4519),\n",
       " ('engineer', 4209),\n",
       " ('lambda', 4088),\n",
       " ('amp', 3838),\n",
       " ('hiring', 3408),\n",
       " ('azure', 3322),\n",
       " ('data', 3229),\n",
       " ('blog', 3175),\n",
       " ('google', 2922),\n",
       " ('service', 2785),\n",
       " ('devops', 2738),\n",
       " ('via', 2567),\n",
       " ('using', 2519),\n",
       " ('seattle', 2340),\n",
       " ('security', 2224),\n",
       " ('software', 2178)]"
      ]
     },
     "execution_count": 23,
     "metadata": {},
     "output_type": "execute_result"
    }
   ],
   "source": [
    "dfsent0 = df.loc[df['sentiment'] == 0.0]\n",
    "dfsent0['text']\n",
    "\n",
    "dfsent0['text'].dropna(inplace=True)\n",
    "\n",
    "datasent0 = list(map(process_things, dfsent0['text']))\n",
    "datasent0\n",
    "\n",
    "alldatasent0 = [item for elem in datasent0 for item in elem]\n",
    "alldatasent0\n",
    "\n",
    "data_freqdistsent0 = FreqDist(alldatasent0)\n",
    "data_freqdistsent0.most_common(20)"
   ]
  },
  {
   "cell_type": "code",
   "execution_count": 24,
   "metadata": {
    "scrolled": true
   },
   "outputs": [
    {
     "data": {
      "image/png": "[encoded data removed]",
      "text/plain": [
       "<Figure size 1152x720 with 1 Axes>"
      ]
     },
     "metadata": {
      "needs_background": "light"
     },
     "output_type": "display_data"
    }
   ],
   "source": [
    "mostcommonwords20sent0 = data_freqdistsent0.most_common(20)\n",
    "\n",
    "plt.figure(figsize=(16, 10))\n",
    "plt.bar(range(len(mostcommonwords20sent0)), [val[1] for val in mostcommonwords20sent0], align='center')\n",
    "plt.xticks(range(len(mostcommonwords20sent0)), [val[0] for val in mostcommonwords20sent0])\n",
    "plt.xticks(rotation=70)\n",
    "plt.ylabel('Number of times the word appears')\n",
    "plt.title('Top 20 most common words for Sentiment 0')\n",
    "plt.show()"
   ]
  },
  {
   "cell_type": "markdown",
   "metadata": {},
   "source": [
    "## EDA for Positive Sentiment values."
   ]
  },
  {
   "cell_type": "code",
   "execution_count": 25,
   "metadata": {},
   "outputs": [
    {
     "data": {
      "text/plain": [
       "[('free', 2595),\n",
       " ('amp', 1313),\n",
       " ('join', 1137),\n",
       " ('services', 1039),\n",
       " ('web', 875),\n",
       " ('new', 664),\n",
       " ('certificates', 631),\n",
       " ('lambda', 603),\n",
       " ('us', 598),\n",
       " ('learn', 570),\n",
       " ('data', 517),\n",
       " ('big', 489),\n",
       " ('ssl', 462),\n",
       " ('google', 444),\n",
       " ('azure', 432),\n",
       " ('via', 397),\n",
       " ('want', 381),\n",
       " ('today', 378),\n",
       " ('using', 369),\n",
       " ('launched', 359)]"
      ]
     },
     "execution_count": 25,
     "metadata": {},
     "output_type": "execute_result"
    }
   ],
   "source": [
    "dfsent1 = df.loc[df['sentiment'] == 1.0]\n",
    "dfsent1['text']\n",
    "\n",
    "dfsent1['text'].dropna(inplace=True)\n",
    "\n",
    "datasent1 = list(map(process_things, dfsent1['text']))\n",
    "datasent1\n",
    "\n",
    "alldatasent1 = [item for elem in datasent1 for item in elem]\n",
    "alldatasent1\n",
    "\n",
    "data_freqdistsent1 = FreqDist(alldatasent1)\n",
    "data_freqdistsent1.most_common(20)"
   ]
  },
  {
   "cell_type": "code",
   "execution_count": 26,
   "metadata": {},
   "outputs": [
    {
     "data": {
      "image/png": "[encoded data removed]",
      "text/plain": [
       "<Figure size 1152x720 with 1 Axes>"
      ]
     },
     "metadata": {
      "needs_background": "light"
     },
     "output_type": "display_data"
    }
   ],
   "source": [
    "mostcommonwords20sent1 = data_freqdistsent1.most_common(20)\n",
    "\n",
    "plt.figure(figsize=(16, 10))\n",
    "plt.bar(range(len(mostcommonwords20sent1)), [val[1] for val in mostcommonwords20sent1], align='center')\n",
    "plt.xticks(range(len(mostcommonwords20sent1)), [val[0] for val in mostcommonwords20sent1])\n",
    "plt.xticks(rotation=70)\n",
    "plt.ylabel('Number of times the word appears')\n",
    "plt.title('Top 20 most common words for Sentiment 1')\n",
    "plt.show()"
   ]
  },
  {
   "cell_type": "code",
   "execution_count": 27,
   "metadata": {},
   "outputs": [
    {
     "data": {
      "text/plain": [
       "[('amp', 1135),\n",
       " ('support', 1007),\n",
       " ('supports', 993),\n",
       " ('help', 748),\n",
       " ('services', 562),\n",
       " ('new', 555),\n",
       " ('web', 533),\n",
       " ('use', 482),\n",
       " ('learn', 477),\n",
       " ('lambda', 463),\n",
       " ('instances', 456),\n",
       " ('using', 428),\n",
       " ('interesting', 369),\n",
       " ('data', 352),\n",
       " ('save', 335),\n",
       " ('secure', 332),\n",
       " ('service', 320),\n",
       " ('iot', 318),\n",
       " ('thanks', 311),\n",
       " ('security', 303)]"
      ]
     },
     "execution_count": 27,
     "metadata": {},
     "output_type": "execute_result"
    }
   ],
   "source": [
    "dfsent2 = df.loc[df['sentiment'] == 2.0]\n",
    "dfsent2['text']\n",
    "\n",
    "dfsent2['text'].dropna(inplace=True)\n",
    "\n",
    "datasent2 = list(map(process_things, dfsent2['text']))\n",
    "datasent2\n",
    "\n",
    "alldatasent2 = [item for elem in datasent2 for item in elem]\n",
    "alldatasent2\n",
    "\n",
    "data_freqdistsent2 = FreqDist(alldatasent2)\n",
    "data_freqdistsent2.most_common(20)"
   ]
  },
  {
   "cell_type": "code",
   "execution_count": 28,
   "metadata": {
    "scrolled": true
   },
   "outputs": [
    {
     "data": {
      "image/png": "[encoded data removed]",
      "text/plain": [
       "<Figure size 1152x720 with 1 Axes>"
      ]
     },
     "metadata": {
      "needs_background": "light"
     },
     "output_type": "display_data"
    }
   ],
   "source": [
    "mostcommonwords20sent2 = data_freqdistsent2.most_common(20)\n",
    "\n",
    "plt.figure(figsize=(16, 10))\n",
    "plt.bar(range(len(mostcommonwords20sent2)), [val[1] for val in mostcommonwords20sent2], align='center')\n",
    "plt.xticks(range(len(mostcommonwords20sent2)), [val[0] for val in mostcommonwords20sent2])\n",
    "plt.xticks(rotation=70)\n",
    "plt.ylabel('Number of times the word appears')\n",
    "plt.title('Top 20 most common words for Sentiment 2')\n",
    "plt.show()"
   ]
  },
  {
   "cell_type": "code",
   "execution_count": 29,
   "metadata": {
    "scrolled": true
   },
   "outputs": [
    {
     "data": {
      "text/plain": [
       "[('nice', 903),\n",
       " ('great', 649),\n",
       " ('computing', 506),\n",
       " ('best', 468),\n",
       " ('high', 468),\n",
       " ('performance', 456),\n",
       " ('good', 450),\n",
       " ('offering', 448),\n",
       " ('acquisition', 424),\n",
       " ('bolsters', 423),\n",
       " ('services', 341),\n",
       " ('web', 323),\n",
       " ('lambda', 212),\n",
       " ('10', 206),\n",
       " ('amp', 193),\n",
       " ('practices', 183),\n",
       " ('years', 180),\n",
       " ('happy', 175),\n",
       " ('new', 164),\n",
       " ('azure', 156)]"
      ]
     },
     "execution_count": 29,
     "metadata": {},
     "output_type": "execute_result"
    }
   ],
   "source": [
    "dfsent3 = df.loc[df['sentiment'] == 3.0]\n",
    "dfsent3['text']\n",
    "\n",
    "dfsent3['text'].dropna(inplace=True)\n",
    "\n",
    "datasent3 = list(map(process_things, dfsent3['text']))\n",
    "datasent3\n",
    "\n",
    "alldatasent3 = [item for elem in datasent3 for item in elem]\n",
    "alldatasent3\n",
    "\n",
    "data_freqdistsent3 = FreqDist(alldatasent3)\n",
    "data_freqdistsent3.most_common(20)"
   ]
  },
  {
   "cell_type": "code",
   "execution_count": 30,
   "metadata": {
    "scrolled": true
   },
   "outputs": [
    {
     "data": {
      "image/png": "[encoded data removed]",
      "text/plain": [
       "<Figure size 1152x720 with 1 Axes>"
      ]
     },
     "metadata": {
      "needs_background": "light"
     },
     "output_type": "display_data"
    }
   ],
   "source": [
    "mostcommonwords20sent3 = data_freqdistsent3.most_common(20)\n",
    "\n",
    "plt.figure(figsize=(16, 10))\n",
    "plt.bar(range(len(mostcommonwords20sent3)), [val[1] for val in mostcommonwords20sent3], align='center')\n",
    "plt.xticks(range(len(mostcommonwords20sent3)), [val[0] for val in mostcommonwords20sent3])\n",
    "plt.xticks(rotation=70)\n",
    "plt.ylabel('Number of times the word appears')\n",
    "plt.title('Top 20 most common words for Sentiment 3')\n",
    "plt.show()"
   ]
  },
  {
   "cell_type": "markdown",
   "metadata": {},
   "source": [
    "## EDA for Negative Sentiment values."
   ]
  },
  {
   "cell_type": "code",
   "execution_count": 31,
   "metadata": {},
   "outputs": [
    {
     "data": {
      "text/plain": [
       "[('cuts', 423),\n",
       " ('google', 288),\n",
       " ('price', 198),\n",
       " ('azure', 188),\n",
       " ('prices', 185),\n",
       " ('microsoft', 145),\n",
       " ('still', 136),\n",
       " ('services', 123),\n",
       " ('apple', 119),\n",
       " ('instances', 118),\n",
       " ('challenge', 115),\n",
       " ('via', 114),\n",
       " ('says', 113),\n",
       " ('web', 109),\n",
       " ('way', 98),\n",
       " ('amp', 93),\n",
       " ('lambda', 92),\n",
       " ('cut', 91),\n",
       " ('data', 91),\n",
       " ('cheaper', 86)]"
      ]
     },
     "execution_count": 31,
     "metadata": {},
     "output_type": "execute_result"
    }
   ],
   "source": [
    "dfsentneg1 = df.loc[df['sentiment'] == -1.0]\n",
    "dfsentneg1['text']\n",
    "\n",
    "dfsentneg1['text'].dropna(inplace=True)\n",
    "\n",
    "datasentneg1 = list(map(process_things, dfsentneg1['text']))\n",
    "datasentneg1\n",
    "\n",
    "alldatasentneg1 = [item for elem in datasentneg1 for item in elem]\n",
    "alldatasentneg1\n",
    "\n",
    "data_freqdistsentneg1 = FreqDist(alldatasentneg1)\n",
    "data_freqdistsentneg1.most_common(20)"
   ]
  },
  {
   "cell_type": "code",
   "execution_count": 32,
   "metadata": {},
   "outputs": [
    {
     "data": {
      "image/png": "[encoded data removed]",
      "text/plain": [
       "<Figure size 1152x720 with 1 Axes>"
      ]
     },
     "metadata": {
      "needs_background": "light"
     },
     "output_type": "display_data"
    }
   ],
   "source": [
    "mostcommonwords20sentneg1 = data_freqdistsentneg1.most_common(20)\n",
    "\n",
    "plt.figure(figsize=(16, 10))\n",
    "plt.bar(range(len(mostcommonwords20sentneg1)), [val[1] for val in mostcommonwords20sentneg1], align='center')\n",
    "plt.xticks(range(len(mostcommonwords20sentneg1)), [val[0] for val in mostcommonwords20sentneg1])\n",
    "plt.xticks(rotation=70)\n",
    "plt.ylabel('Number of times the word appears')\n",
    "plt.title('Top 20 most common words for Sentiment -1')\n",
    "plt.show()"
   ]
  },
  {
   "cell_type": "code",
   "execution_count": 33,
   "metadata": {},
   "outputs": [
    {
     "data": {
      "text/plain": [
       "[('services', 291),\n",
       " ('web', 256),\n",
       " ('azure', 219),\n",
       " ('microsoft', 173),\n",
       " ('apple', 160),\n",
       " ('problems', 137),\n",
       " ('prices', 120),\n",
       " ('google', 117),\n",
       " ('17', 117),\n",
       " ('slashes', 116),\n",
       " ('data', 113),\n",
       " ('keep', 112),\n",
       " ('analyst', 104),\n",
       " ('telstra', 95),\n",
       " ('australia', 91),\n",
       " ('continue', 91),\n",
       " ('outage', 89),\n",
       " ('new', 84),\n",
       " ('war', 81),\n",
       " ('may', 80)]"
      ]
     },
     "execution_count": 33,
     "metadata": {},
     "output_type": "execute_result"
    }
   ],
   "source": [
    "dfsentneg2 = df.loc[df['sentiment'] == -2.0]\n",
    "dfsentneg2['text']\n",
    "\n",
    "dfsentneg2['text'].dropna(inplace=True)\n",
    "\n",
    "datasentneg2 = list(map(process_things, dfsentneg2['text']))\n",
    "datasentneg2\n",
    "\n",
    "alldatasentneg2 = [item for elem in datasentneg2 for item in elem]\n",
    "alldatasentneg2\n",
    "\n",
    "data_freqdistsentneg2 = FreqDist(alldatasentneg2)\n",
    "data_freqdistsentneg2.most_common(20)"
   ]
  },
  {
   "cell_type": "code",
   "execution_count": 34,
   "metadata": {
    "scrolled": false
   },
   "outputs": [
    {
     "data": {
      "image/png": "[encoded data removed]",
      "text/plain": [
       "<Figure size 1152x720 with 1 Axes>"
      ]
     },
     "metadata": {
      "needs_background": "light"
     },
     "output_type": "display_data"
    }
   ],
   "source": [
    "mostcommonwords20sentneg2 = data_freqdistsentneg2.most_common(20)\n",
    "\n",
    "plt.figure(figsize=(16, 10))\n",
    "plt.bar(range(len(mostcommonwords20sentneg2)), [val[1] for val in mostcommonwords20sentneg2], align='center')\n",
    "plt.xticks(range(len(mostcommonwords20sentneg2)), [val[0] for val in mostcommonwords20sentneg2])\n",
    "plt.xticks(rotation=70)\n",
    "plt.ylabel('Number of times the word appears')\n",
    "plt.title('Top 20 most common words for Sentiment -2')\n",
    "plt.show()"
   ]
  },
  {
   "cell_type": "code",
   "execution_count": 35,
   "metadata": {
    "scrolled": true
   },
   "outputs": [
    {
     "data": {
      "text/plain": [
       "[('google', 86),\n",
       " ('azure', 66),\n",
       " ('another', 45),\n",
       " ('apple', 39),\n",
       " ('market', 38),\n",
       " ('console', 36),\n",
       " ('sucks', 35),\n",
       " ('bad', 34),\n",
       " ('spurns', 31),\n",
       " ('stackdriver', 31),\n",
       " ('services', 29),\n",
       " ('today', 26),\n",
       " ('like', 25),\n",
       " ('day', 24),\n",
       " ('time', 23),\n",
       " ('dumb', 23),\n",
       " ('kills', 23),\n",
       " ('use', 23),\n",
       " ('hate', 22),\n",
       " ('public', 22)]"
      ]
     },
     "execution_count": 35,
     "metadata": {},
     "output_type": "execute_result"
    }
   ],
   "source": [
    "dfsentneg3 = df.loc[df['sentiment'] == -3.0]\n",
    "dfsentneg3['text']\n",
    "\n",
    "dfsentneg3['text'].dropna(inplace=True)\n",
    "\n",
    "datasentneg3 = list(map(process_things, dfsentneg3['text']))\n",
    "datasentneg3\n",
    "\n",
    "alldatasentneg3 = [item for elem in datasentneg3 for item in elem]\n",
    "alldatasentneg3\n",
    "\n",
    "data_freqdistsentneg3 = FreqDist(alldatasentneg3)\n",
    "data_freqdistsentneg3.most_common(20)"
   ]
  },
  {
   "cell_type": "code",
   "execution_count": 36,
   "metadata": {},
   "outputs": [
    {
     "data": {
      "image/png": "[encoded data removed]",
      "text/plain": [
       "<Figure size 1152x720 with 1 Axes>"
      ]
     },
     "metadata": {
      "needs_background": "light"
     },
     "output_type": "display_data"
    }
   ],
   "source": [
    "mostcommonwords20sentneg3 = data_freqdistsentneg3.most_common(20)\n",
    "\n",
    "plt.figure(figsize=(16, 10))\n",
    "plt.bar(range(len(mostcommonwords20sentneg3)), [val[1] for val in mostcommonwords20sentneg3], align='center')\n",
    "plt.xticks(range(len(mostcommonwords20sentneg3)), [val[0] for val in mostcommonwords20sentneg3])\n",
    "plt.xticks(rotation=70)\n",
    "plt.ylabel('Number of times the word appears')\n",
    "plt.title('Top 20 most common words for Sentiment -3')\n",
    "plt.show()"
   ]
  },
  {
   "cell_type": "markdown",
   "metadata": {},
   "source": [
    "# Bigrams, Trigrams"
   ]
  },
  {
   "cell_type": "code",
   "execution_count": 37,
   "metadata": {},
   "outputs": [],
   "source": [
    "# One without removing any common words to see common n-grams.\n",
    "\n",
    "def n_gramall(df_col, n=None):\n",
    "    # Build the vectorizer, specify inputted n-gram, remove stop words\n",
    "    vect = CountVectorizer(ngram_range = (n,n), stop_words = gramstopwords_list, min_df = 10)\n",
    "    # fit/transform vectorizer on specified column\n",
    "    vect_fit = vect.fit_transform(df_col.values.astype('U'))\n",
    "    # get all words and store in a list\n",
    "    word_list = vect.get_feature_names()\n",
    "    # get a count of all the words\n",
    "    count_list = vect_fit.toarray().sum(axis=0)\n",
    "    #create a dictionary of word to count pairings\n",
    "    count_dict = dict(zip(word_list, count_list))\n",
    "    # sort the dictionary to show highest counted words on top\n",
    "    sort_vocab = sorted(count_dict.items(), key=lambda x: x[1], reverse=True)\n",
    "    return sort_vocab\n",
    "\n",
    "# One with removing common words to see if any more notable n-grams show up.\n",
    "\n",
    "def n_gram(df_col, n=None):\n",
    "\n",
    "    vect = CountVectorizer(ngram_range = (n,n), stop_words = stopwords_list, min_df = 10)\n",
    "\n",
    "    vect_fit = vect.fit_transform(df_col.values.astype('U'))\n",
    "\n",
    "    word_list = vect.get_feature_names()\n",
    "\n",
    "    count_list = vect_fit.toarray().sum(axis=0)\n",
    "\n",
    "    count_dict = dict(zip(word_list, count_list))\n",
    "\n",
    "    sort_vocab = sorted(count_dict.items(), key=lambda x: x[1], reverse=True)\n",
    "    return sort_vocab"
   ]
  },
  {
   "cell_type": "code",
   "execution_count": 38,
   "metadata": {},
   "outputs": [],
   "source": [
    "gramstopwords_list = stopwords.words('english') + list(string.punctuation)\n",
    "gramstopwords_list += [\"''\", '\"\"', '...', '``']"
   ]
  },
  {
   "cell_type": "markdown",
   "metadata": {},
   "source": [
    "# Bigram/Trigram for entire word list"
   ]
  },
  {
   "cell_type": "code",
   "execution_count": 39,
   "metadata": {},
   "outputs": [
    {
     "data": {
      "text/plain": [
       "[('rt awscloud', 8179),\n",
       " ('amazon web', 8176),\n",
       " ('web services', 8118),\n",
       " ('aws lambda', 4493),\n",
       " ('aws cloud', 3025),\n",
       " ('new aws', 1920),\n",
       " ('seattle wa', 1878),\n",
       " ('rt jeffbarr', 1732),\n",
       " ('amazon aws', 1630),\n",
       " ('job awscloud', 1604),\n",
       " ('cloud aws', 1510),\n",
       " ('using aws', 1490),\n",
       " ('jobs jobsearch', 1469),\n",
       " ('awscloud new', 1434),\n",
       " ('aws azure', 1271),\n",
       " ('google cloud', 1266),\n",
       " ('engineer aws', 1264),\n",
       " ('aws iot', 1224),\n",
       " ('awscloud aws', 1161),\n",
       " ('aws google', 1099)]"
      ]
     },
     "execution_count": 39,
     "metadata": {},
     "output_type": "execute_result"
    }
   ],
   "source": [
    "bigramall = n_gramall(df['text'], n=2)\n",
    "bigramall[:20]"
   ]
  },
  {
   "cell_type": "code",
   "execution_count": 40,
   "metadata": {
    "scrolled": true
   },
   "outputs": [
    {
     "data": {
      "text/plain": [
       "[('amazon web services', 8059),\n",
       " ('rt awscloud new', 1314),\n",
       " ('seattle wa seattle', 811),\n",
       " ('wa seattle wa', 807),\n",
       " ('jobs seattle wa', 806),\n",
       " ('seattle wa jobs', 783),\n",
       " ('wa jobs jobsearch', 765),\n",
       " ('web services aws', 700),\n",
       " ('software development engineer', 652),\n",
       " ('rt awscloud aws', 649),\n",
       " ('aws certificate manager', 643),\n",
       " ('rt awscloud learn', 609),\n",
       " ('awscloud new aws', 597),\n",
       " ('database migration service', 597),\n",
       " ('aws database migration', 552),\n",
       " ('rt awscloud amazon', 529),\n",
       " ('lessons 10 years', 502),\n",
       " ('10 lessons 10', 487),\n",
       " ('rt jeffbarr new', 485),\n",
       " ('high performance computing', 467)]"
      ]
     },
     "execution_count": 40,
     "metadata": {},
     "output_type": "execute_result"
    }
   ],
   "source": [
    "trigramall = n_gramall(df['text'], n=3)\n",
    "trigramall[:20]"
   ]
  },
  {
   "cell_type": "markdown",
   "metadata": {},
   "source": [
    "#### Still seems like there's a lot of random text"
   ]
  },
  {
   "cell_type": "code",
   "execution_count": 41,
   "metadata": {},
   "outputs": [
    {
     "data": {
      "text/plain": [
       "[('web services', 8118),\n",
       " ('seattle wa', 1878),\n",
       " ('jobs jobsearch', 1469),\n",
       " ('devops engineer', 953),\n",
       " ('software development', 914),\n",
       " ('10 years', 891),\n",
       " ('wa seattle', 871),\n",
       " ('jobs seattle', 811),\n",
       " ('big data', 801),\n",
       " ('certificate manager', 796),\n",
       " ('wa jobs', 783),\n",
       " ('ssl tls', 767),\n",
       " ('development engineer', 755),\n",
       " ('57 10', 721),\n",
       " ('api gateway', 702),\n",
       " ('database migration', 649),\n",
       " ('migration service', 635),\n",
       " ('microsoft azure', 622),\n",
       " ('software engineer', 581),\n",
       " ('best practices', 557)]"
      ]
     },
     "execution_count": 41,
     "metadata": {},
     "output_type": "execute_result"
    }
   ],
   "source": [
    "bigram = n_gram(df['text'], n=2)\n",
    "bigram[:20]"
   ]
  },
  {
   "cell_type": "code",
   "execution_count": 42,
   "metadata": {},
   "outputs": [
    {
     "data": {
      "text/plain": [
       "[('seattle wa seattle', 813),\n",
       " ('wa seattle wa', 808),\n",
       " ('jobs seattle wa', 806),\n",
       " ('seattle wa jobs', 783),\n",
       " ('wa jobs jobsearch', 765),\n",
       " ('software development engineer', 652),\n",
       " ('database migration service', 603),\n",
       " ('lessons 10 years', 502),\n",
       " ('10 lessons 10', 487),\n",
       " ('high performance computing', 467),\n",
       " ('ssl tls certificates', 462),\n",
       " ('new bigdata blog', 430),\n",
       " ('bolsters high performance', 427),\n",
       " ('performance computing offering', 425),\n",
       " ('years web services', 421),\n",
       " ('10 years web', 419),\n",
       " ('computing offering nice', 404),\n",
       " ('asia pacific seoul', 400),\n",
       " ('offering nice acquisition', 398),\n",
       " ('pacific seoul region', 381)]"
      ]
     },
     "execution_count": 42,
     "metadata": {},
     "output_type": "execute_result"
    }
   ],
   "source": [
    "trigram = n_gram(df['text'], n=3)\n",
    "trigram[:20]"
   ]
  },
  {
   "cell_type": "markdown",
   "metadata": {},
   "source": [
    "# Bigram/Trigram for Sentiment value 0"
   ]
  },
  {
   "cell_type": "code",
   "execution_count": 43,
   "metadata": {},
   "outputs": [
    {
     "data": {
      "text/plain": [
       "[('web services', 6396),\n",
       " ('seattle wa', 1851),\n",
       " ('jobs jobsearch', 1461),\n",
       " ('software development', 895),\n",
       " ('wa seattle', 868),\n",
       " ('devops engineer', 842),\n",
       " ('jobs seattle', 811),\n",
       " ('wa jobs', 781),\n",
       " ('development engineer', 739),\n",
       " ('10 years', 684),\n",
       " ('57 10', 623),\n",
       " ('big data', 579),\n",
       " ('software engineer', 562),\n",
       " ('certificate manager', 553),\n",
       " ('hiring software', 540),\n",
       " ('migration service', 540),\n",
       " ('database migration', 533),\n",
       " ('api gateway', 497),\n",
       " ('bigdata blog', 494),\n",
       " ('azure functions', 469)]"
      ]
     },
     "execution_count": 43,
     "metadata": {},
     "output_type": "execute_result"
    }
   ],
   "source": [
    "bigramsent0 = n_gram(dfsent0['text'], n=2)\n",
    "bigramsent0[:20]"
   ]
  },
  {
   "cell_type": "code",
   "execution_count": 44,
   "metadata": {},
   "outputs": [
    {
     "data": {
      "text/plain": [
       "[('seattle wa seattle', 813),\n",
       " ('wa seattle wa', 808),\n",
       " ('jobs seattle wa', 806),\n",
       " ('seattle wa jobs', 781),\n",
       " ('wa jobs jobsearch', 765),\n",
       " ('software development engineer', 636),\n",
       " ('database migration service', 516),\n",
       " ('lessons 10 years', 454),\n",
       " ('10 lessons 10', 441),\n",
       " ('new bigdata blog', 410),\n",
       " ('10 years web', 378),\n",
       " ('years web services', 378),\n",
       " ('asia pacific seoul', 353),\n",
       " ('pacific seoul region', 334),\n",
       " ('said move part', 330),\n",
       " ('move part business', 328),\n",
       " ('part business google', 309),\n",
       " ('apple said move', 304),\n",
       " ('new public sector', 295),\n",
       " ('public sector blog', 295)]"
      ]
     },
     "execution_count": 44,
     "metadata": {},
     "output_type": "execute_result"
    }
   ],
   "source": [
    "trigramsent0 = n_gram(dfsent0['text'], n=3)\n",
    "trigramsent0[:20]"
   ]
  },
  {
   "cell_type": "markdown",
   "metadata": {},
   "source": [
    "# Bigram/Trigram for Positive Sentiment values"
   ]
  },
  {
   "cell_type": "code",
   "execution_count": 45,
   "metadata": {},
   "outputs": [
    {
     "data": {
      "text/plain": [
       "[('web services', 628),\n",
       " ('join us', 529),\n",
       " ('ssl tls', 362),\n",
       " ('free ssl', 310),\n",
       " ('tls certificates', 310),\n",
       " ('game engine', 309),\n",
       " ('offering free', 236),\n",
       " ('lumberyard free', 204),\n",
       " ('ios android', 198),\n",
       " ('today free', 193),\n",
       " ('certificate manager', 192),\n",
       " ('certificates free', 192),\n",
       " ('certificates customers', 191),\n",
       " ('free https', 191),\n",
       " ('https certificates', 190),\n",
       " ('provides ssl', 190),\n",
       " ('along letsencrypt', 189),\n",
       " ('customers along', 189),\n",
       " ('launches tool', 189),\n",
       " ('web apps', 189)]"
      ]
     },
     "execution_count": 45,
     "metadata": {},
     "output_type": "execute_result"
    }
   ],
   "source": [
    "bigramsent1 = n_gram(dfsent1['text'], n=2)\n",
    "bigramsent1[:20]"
   ]
  },
  {
   "cell_type": "code",
   "execution_count": 46,
   "metadata": {},
   "outputs": [
    {
     "data": {
      "text/plain": [
       "[('ssl tls certificates', 301),\n",
       " ('free https certificates', 190),\n",
       " ('certificates customers along', 189),\n",
       " ('customers along letsencrypt', 189),\n",
       " ('https certificates customers', 189),\n",
       " ('offering free https', 189),\n",
       " ('konklone offering free', 188),\n",
       " ('launches tool provides', 188),\n",
       " ('tool provides ssl', 187),\n",
       " ('provides ssl tls', 186),\n",
       " ('tls certificates free', 186),\n",
       " ('amp web apps', 185),\n",
       " ('android amp web', 185),\n",
       " ('ios android amp', 185),\n",
       " ('start today free', 185),\n",
       " ('apps real phones', 170),\n",
       " ('phones tablets start', 170),\n",
       " ('real phones tablets', 170),\n",
       " ('tablets start today', 170),\n",
       " ('test ios android', 170)]"
      ]
     },
     "execution_count": 46,
     "metadata": {},
     "output_type": "execute_result"
    }
   ],
   "source": [
    "trigramsent1 = n_gram(dfsent1['text'], n=3)\n",
    "trigramsent1[:20]"
   ]
  },
  {
   "cell_type": "code",
   "execution_count": 47,
   "metadata": {},
   "outputs": [
    {
     "data": {
      "text/plain": [
       "[('web services', 443),\n",
       " ('spot instances', 223),\n",
       " ('helps buy', 190),\n",
       " ('spotinst helps', 189),\n",
       " ('buy spot', 187),\n",
       " ('instances raises', 183),\n",
       " ('raises 2m', 178),\n",
       " ('2m series', 169),\n",
       " ('cloudformation supports', 153),\n",
       " ('api gateway', 125),\n",
       " ('open source', 112),\n",
       " ('rds supports', 101),\n",
       " ('swift runtime', 101),\n",
       " ('ibm launches', 99),\n",
       " ('lambda competitor', 99),\n",
       " ('launches swift', 99),\n",
       " ('source lambda', 98),\n",
       " ('save date', 95),\n",
       " ('elasticache supports', 94),\n",
       " ('custom authorizers', 90)]"
      ]
     },
     "execution_count": 47,
     "metadata": {},
     "output_type": "execute_result"
    }
   ],
   "source": [
    "bigramsent2 = n_gram(dfsent2['text'], n=2)\n",
    "bigramsent2[:20]"
   ]
  },
  {
   "cell_type": "code",
   "execution_count": 48,
   "metadata": {},
   "outputs": [
    {
     "data": {
      "text/plain": [
       "[('spotinst helps buy', 189),\n",
       " ('helps buy spot', 187),\n",
       " ('buy spot instances', 184),\n",
       " ('spot instances raises', 183),\n",
       " ('instances raises 2m', 176),\n",
       " ('raises 2m series', 169),\n",
       " ('ibm launches swift', 98),\n",
       " ('open source lambda', 97),\n",
       " ('launches swift runtime', 95),\n",
       " ('source lambda competitor', 92),\n",
       " ('runtime open source', 90),\n",
       " ('swift runtime open', 90),\n",
       " ('lambda competitor github', 82),\n",
       " ('competitor github enterprise', 81),\n",
       " ('new scheduled reserved', 73),\n",
       " ('scheduled reserved instances', 73),\n",
       " ('database migration service', 72),\n",
       " ('almighty msg hrt', 71),\n",
       " ('class care everything', 71),\n",
       " ('divine voice mashup', 71)]"
      ]
     },
     "execution_count": 48,
     "metadata": {},
     "output_type": "execute_result"
    }
   ],
   "source": [
    "trigramsent2 = n_gram(dfsent2['text'], n=3)\n",
    "trigramsent2[:20]"
   ]
  },
  {
   "cell_type": "code",
   "execution_count": 49,
   "metadata": {},
   "outputs": [
    {
     "data": {
      "text/plain": [
       "[('high performance', 455),\n",
       " ('performance computing', 453),\n",
       " ('computing offering', 422),\n",
       " ('bolsters high', 420),\n",
       " ('nice acquisition', 418),\n",
       " ('offering nice', 406),\n",
       " ('web services', 301),\n",
       " ('best practices', 182),\n",
       " ('10 years', 144),\n",
       " ('celebrating 10', 67),\n",
       " ('10th birthday', 56),\n",
       " ('happy 10th', 56),\n",
       " ('terms service', 55),\n",
       " ('microsoft azure', 53),\n",
       " ('years awscloud10', 52),\n",
       " ('techcrunch bolsters', 51),\n",
       " ('excited announce', 44),\n",
       " ('firm nice', 44),\n",
       " ('zombie apocalypse', 42),\n",
       " ('acquires nice', 40)]"
      ]
     },
     "execution_count": 49,
     "metadata": {},
     "output_type": "execute_result"
    }
   ],
   "source": [
    "bigramsent3 = n_gram(dfsent3['text'], n=2)\n",
    "bigramsent3[:20]"
   ]
  },
  {
   "cell_type": "code",
   "execution_count": 50,
   "metadata": {},
   "outputs": [
    {
     "data": {
      "text/plain": [
       "[('high performance computing', 453),\n",
       " ('performance computing offering', 422),\n",
       " ('bolsters high performance', 420),\n",
       " ('computing offering nice', 402),\n",
       " ('offering nice acquisition', 396),\n",
       " ('celebrating 10 years', 67),\n",
       " ('10 years awscloud10', 52),\n",
       " ('happy 10th birthday', 51),\n",
       " ('techcrunch bolsters high', 51),\n",
       " ('apocalypse ready someone', 40),\n",
       " ('ready someone must', 40),\n",
       " ('service zombie apocalypse', 40),\n",
       " ('someone must bet', 40),\n",
       " ('terms service zombie', 40),\n",
       " ('zombie apocalypse ready', 40),\n",
       " ('best practices securing', 39),\n",
       " ('dps terms service', 39),\n",
       " ('nice acquisition ron_miller', 39),\n",
       " ('announcing industry best', 37),\n",
       " ('industry best practices', 37)]"
      ]
     },
     "execution_count": 50,
     "metadata": {},
     "output_type": "execute_result"
    }
   ],
   "source": [
    "trigramsent3 = n_gram(dfsent3['text'], n=3)\n",
    "trigramsent3[:20]"
   ]
  },
  {
   "cell_type": "markdown",
   "metadata": {},
   "source": [
    "# Bigram/Trigram for Negative Sentiment values"
   ]
  },
  {
   "cell_type": "code",
   "execution_count": 51,
   "metadata": {},
   "outputs": [
    {
     "data": {
      "text/plain": [
       "[('price cuts', 163),\n",
       " ('google says', 107),\n",
       " ('web services', 96),\n",
       " ('cuts prices', 83),\n",
       " ('cuts still', 79),\n",
       " ('says price', 79),\n",
       " ('still way', 78),\n",
       " ('way cheaper', 78),\n",
       " ('c4 m4', 66),\n",
       " ('r3 c4', 65),\n",
       " ('prices r3', 63),\n",
       " ('m4 instances', 61),\n",
       " ('cuts azure', 58),\n",
       " ('microsoft cuts', 56),\n",
       " ('abandons challenge', 55),\n",
       " ('challenge dreams', 55),\n",
       " ('dreams makes', 55),\n",
       " ('makes eyes', 55),\n",
       " ('openstack abandons', 55),\n",
       " ('eyes telcos', 54)]"
      ]
     },
     "execution_count": 51,
     "metadata": {},
     "output_type": "execute_result"
    }
   ],
   "source": [
    "bigramsentneg1 = n_gram(dfsentneg1['text'], n=2)\n",
    "bigramsentneg1[:20]"
   ]
  },
  {
   "cell_type": "code",
   "execution_count": 52,
   "metadata": {},
   "outputs": [
    {
     "data": {
      "text/plain": [
       "[('google says price', 79),\n",
       " ('price cuts still', 79),\n",
       " ('says price cuts', 79),\n",
       " ('cuts still way', 78),\n",
       " ('still way cheaper', 78),\n",
       " ('cuts prices r3', 63),\n",
       " ('prices r3 c4', 63),\n",
       " ('r3 c4 m4', 62),\n",
       " ('c4 m4 instances', 61),\n",
       " ('microsoft cuts azure', 56),\n",
       " ('abandons challenge dreams', 55),\n",
       " ('challenge dreams makes', 55),\n",
       " ('dreams makes eyes', 55),\n",
       " ('openstack abandons challenge', 55),\n",
       " ('makes eyes telcos', 54),\n",
       " ('cuts azure prices', 50),\n",
       " ('cuts data transfer', 42),\n",
       " ('data transfer fees', 42),\n",
       " ('fees academic research', 42),\n",
       " ('transfer fees academic', 42)]"
      ]
     },
     "execution_count": 52,
     "metadata": {},
     "output_type": "execute_result"
    }
   ],
   "source": [
    "trigramsentneg1 = n_gram(dfsentneg1['text'], n=3)\n",
    "trigramsentneg1[:20]"
   ]
  },
  {
   "cell_type": "code",
   "execution_count": 53,
   "metadata": {},
   "outputs": [
    {
     "data": {
      "text/plain": [
       "[('web services', 247),\n",
       " ('azure prices', 113),\n",
       " ('slashes azure', 113),\n",
       " ('microsoft slashes', 111),\n",
       " ('17 keep', 110),\n",
       " ('prices 17', 110),\n",
       " ('problems australia', 91),\n",
       " ('australia continue', 90),\n",
       " ('telstra problems', 90),\n",
       " ('continue web', 89),\n",
       " ('services outage', 87),\n",
       " ('abandon web', 77),\n",
       " ('services data', 77),\n",
       " ('data centers', 76),\n",
       " ('apple predicted', 74),\n",
       " ('predicted abandon', 74),\n",
       " ('analyst says', 67),\n",
       " ('centers analyst', 67),\n",
       " ('best dropdown', 44),\n",
       " ('deal may', 44)]"
      ]
     },
     "execution_count": 53,
     "metadata": {},
     "output_type": "execute_result"
    }
   ],
   "source": [
    "bigramsentneg2 = n_gram(dfsentneg2['text'], n=2)\n",
    "bigramsentneg2[:20]"
   ]
  },
  {
   "cell_type": "code",
   "execution_count": 54,
   "metadata": {},
   "outputs": [
    {
     "data": {
      "text/plain": [
       "[('slashes azure prices', 113),\n",
       " ('microsoft slashes azure', 111),\n",
       " ('azure prices 17', 110),\n",
       " ('prices 17 keep', 110),\n",
       " ('problems australia continue', 90),\n",
       " ('telstra problems australia', 90),\n",
       " ('australia continue web', 89),\n",
       " ('continue web services', 89),\n",
       " ('web services outage', 87),\n",
       " ('abandon web services', 77),\n",
       " ('web services data', 77),\n",
       " ('services data centers', 75),\n",
       " ('apple predicted abandon', 74),\n",
       " ('predicted abandon web', 74),\n",
       " ('centers analyst says', 67),\n",
       " ('data centers analyst', 67),\n",
       " ('best dropdown world', 44),\n",
       " ('deal may know', 44),\n",
       " ('know best dropdown', 44),\n",
       " ('may know best', 44)]"
      ]
     },
     "execution_count": 54,
     "metadata": {},
     "output_type": "execute_result"
    }
   ],
   "source": [
    "trigramsentneg2 = n_gram(dfsentneg2['text'], n=3)\n",
    "trigramsentneg2[:20]"
   ]
  },
  {
   "cell_type": "code",
   "execution_count": 55,
   "metadata": {},
   "outputs": [
    {
     "data": {
      "text/plain": [
       "[('azure sucks', 31),\n",
       " ('google spurns', 31),\n",
       " ('spurns azure', 31),\n",
       " ('stackdriver console', 31),\n",
       " ('sucks stackdriver', 31),\n",
       " ('al jayab', 24),\n",
       " ('younis al', 20),\n",
       " ('another day', 19),\n",
       " ('another market', 19),\n",
       " ('cert market', 19),\n",
       " ('day another', 19),\n",
       " ('kills today', 19),\n",
       " ('market kills', 19),\n",
       " ('ssl cert', 19),\n",
       " ('today ssl', 19),\n",
       " ('ajsharp another', 18),\n",
       " ('azure locations', 15),\n",
       " ('combined suck', 15),\n",
       " ('google combined', 15),\n",
       " ('locations google', 15)]"
      ]
     },
     "execution_count": 55,
     "metadata": {},
     "output_type": "execute_result"
    }
   ],
   "source": [
    "bigramsentneg3 = n_gram(dfsentneg3['text'], n=2)\n",
    "bigramsentneg3[:20]"
   ]
  },
  {
   "cell_type": "code",
   "execution_count": 56,
   "metadata": {},
   "outputs": [
    {
     "data": {
      "text/plain": [
       "[('azure sucks stackdriver', 31),\n",
       " ('google spurns azure', 31),\n",
       " ('spurns azure sucks', 31),\n",
       " ('sucks stackdriver console', 31),\n",
       " ('another day another', 19),\n",
       " ('another market kills', 19),\n",
       " ('day another market', 19),\n",
       " ('kills today ssl', 19),\n",
       " ('market kills today', 19),\n",
       " ('ssl cert market', 19),\n",
       " ('today ssl cert', 19),\n",
       " ('younis al jayab', 19),\n",
       " ('ajsharp another day', 18),\n",
       " ('azure locations google', 15),\n",
       " ('combined suck google', 15),\n",
       " ('google combined suck', 15),\n",
       " ('locations google combined', 15),\n",
       " ('mohammed younis al', 15),\n",
       " ('ptb azure locations', 15),\n",
       " ('dumb move telcos', 14)]"
      ]
     },
     "execution_count": 56,
     "metadata": {},
     "output_type": "execute_result"
    }
   ],
   "source": [
    "trigramsentneg3 = n_gram(dfsentneg3['text'], n=3)\n",
    "trigramsentneg3[:20]"
   ]
  },
  {
   "cell_type": "code",
   "execution_count": null,
   "metadata": {},
   "outputs": [],
   "source": []
  }
 ],
 "metadata": {
  "kernelspec": {
   "display_name": "Python 3",
   "language": "python",
   "name": "python3"
  },
  "language_info": {
   "codemirror_mode": {
    "name": "ipython",
    "version": 3
   },
   "file_extension": ".py",
   "mimetype": "text/x-python",
   "name": "python",
   "nbconvert_exporter": "python",
   "pygments_lexer": "ipython3",
   "version": "3.7.6"
  }
 },
 "nbformat": 4,
 "nbformat_minor": 4
}
